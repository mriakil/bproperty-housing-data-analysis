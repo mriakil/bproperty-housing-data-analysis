{
 "cells": [
  {
   "cell_type": "markdown",
   "id": "57e310f9",
   "metadata": {},
   "source": [
    "# Bangladesh House Price Analysis\n",
    "\n",
    "Dataset Link: https://www.kaggle.com/datasets/ijajdatanerd/property-listing-data-in-bangladesh\n"
   ]
  },
  {
   "cell_type": "code",
   "execution_count": null,
   "id": "4e7f28e4",
   "metadata": {},
   "outputs": [],
   "source": []
  },
  {
   "cell_type": "code",
   "execution_count": 1,
   "id": "0dfd8e0b",
   "metadata": {},
   "outputs": [],
   "source": [
    "#importing packages\n",
    "\n",
    "import numpy as np\n",
    "import pandas as pd\n",
    "import matplotlib.pyplot as plt\n",
    "import matplotlib.ticker as ticker\n",
    "import matplotlib.pyplot as plt\n",
    "import seaborn as sns\n",
    "\n",
    "%matplotlib inline"
   ]
  },
  {
   "cell_type": "code",
   "execution_count": 2,
   "id": "9d2f4ed3",
   "metadata": {},
   "outputs": [
    {
     "data": {
      "text/html": [
       "<div>\n",
       "<style scoped>\n",
       "    .dataframe tbody tr th:only-of-type {\n",
       "        vertical-align: middle;\n",
       "    }\n",
       "\n",
       "    .dataframe tbody tr th {\n",
       "        vertical-align: top;\n",
       "    }\n",
       "\n",
       "    .dataframe thead th {\n",
       "        text-align: right;\n",
       "    }\n",
       "</style>\n",
       "<table border=\"1\" class=\"dataframe\">\n",
       "  <thead>\n",
       "    <tr style=\"text-align: right;\">\n",
       "      <th></th>\n",
       "      <th>title</th>\n",
       "      <th>beds</th>\n",
       "      <th>bath</th>\n",
       "      <th>area</th>\n",
       "      <th>adress</th>\n",
       "      <th>type</th>\n",
       "      <th>purpose</th>\n",
       "      <th>flooPlan</th>\n",
       "      <th>url</th>\n",
       "      <th>lastUpdated</th>\n",
       "      <th>price</th>\n",
       "    </tr>\n",
       "  </thead>\n",
       "  <tbody>\n",
       "    <tr>\n",
       "      <th>0</th>\n",
       "      <td>Eminent Apartment Of 2200 Sq Ft Is Vacant For ...</td>\n",
       "      <td>3</td>\n",
       "      <td>4</td>\n",
       "      <td>2,200 sqft</td>\n",
       "      <td>Block A, Bashundhara R-A, Dhaka</td>\n",
       "      <td>Apartment</td>\n",
       "      <td>For Rent</td>\n",
       "      <td>https://images-cdn.bproperty.com/thumbnails/10...</td>\n",
       "      <td>https://www.bproperty.com/en/property/details-...</td>\n",
       "      <td>August 13, 2022</td>\n",
       "      <td>50 Thousand</td>\n",
       "    </tr>\n",
       "    <tr>\n",
       "      <th>1</th>\n",
       "      <td>Apartment Ready To Rent In South Khulshi, Near...</td>\n",
       "      <td>3</td>\n",
       "      <td>4</td>\n",
       "      <td>1,400 sqft</td>\n",
       "      <td>South Khulshi, Khulshi, Chattogram</td>\n",
       "      <td>Apartment</td>\n",
       "      <td>For Rent</td>\n",
       "      <td>https://images-cdn.bproperty.com/thumbnails/44...</td>\n",
       "      <td>https://www.bproperty.com/en/property/details-...</td>\n",
       "      <td>January 25, 2022</td>\n",
       "      <td>30 Thousand</td>\n",
       "    </tr>\n",
       "    <tr>\n",
       "      <th>2</th>\n",
       "      <td>Smartly priced 1950 SQ FT apartment, that you ...</td>\n",
       "      <td>3</td>\n",
       "      <td>4</td>\n",
       "      <td>1,950 sqft</td>\n",
       "      <td>Block F, Bashundhara R-A, Dhaka</td>\n",
       "      <td>Apartment</td>\n",
       "      <td>For Rent</td>\n",
       "      <td>https://images-cdn.bproperty.com/thumbnails/11...</td>\n",
       "      <td>https://www.bproperty.com/en/property/details-...</td>\n",
       "      <td>February 22, 2023</td>\n",
       "      <td>30 Thousand</td>\n",
       "    </tr>\n",
       "    <tr>\n",
       "      <th>3</th>\n",
       "      <td>2000 Sq Ft Residential Apartment Is Up For Ren...</td>\n",
       "      <td>3</td>\n",
       "      <td>3</td>\n",
       "      <td>2,000 sqft</td>\n",
       "      <td>Sector 9, Uttara, Dhaka</td>\n",
       "      <td>Apartment</td>\n",
       "      <td>For Rent</td>\n",
       "      <td>https://images-cdn.bproperty.com/thumbnails/14...</td>\n",
       "      <td>https://www.bproperty.com/en/property/details-...</td>\n",
       "      <td>October 28, 2021</td>\n",
       "      <td>35 Thousand</td>\n",
       "    </tr>\n",
       "    <tr>\n",
       "      <th>4</th>\n",
       "      <td>Strongly Structured This 1650 Sq. ft Apartment...</td>\n",
       "      <td>3</td>\n",
       "      <td>4</td>\n",
       "      <td>1,650 sqft</td>\n",
       "      <td>Block I, Bashundhara R-A, Dhaka</td>\n",
       "      <td>Apartment</td>\n",
       "      <td>For Rent</td>\n",
       "      <td>https://images-cdn.bproperty.com/thumbnails/10...</td>\n",
       "      <td>https://www.bproperty.com/en/property/details-...</td>\n",
       "      <td>February 19, 2023</td>\n",
       "      <td>25 Thousand</td>\n",
       "    </tr>\n",
       "  </tbody>\n",
       "</table>\n",
       "</div>"
      ],
      "text/plain": [
       "                                               title beds bath        area  \\\n",
       "0  Eminent Apartment Of 2200 Sq Ft Is Vacant For ...   3    4   2,200 sqft   \n",
       "1  Apartment Ready To Rent In South Khulshi, Near...   3    4   1,400 sqft   \n",
       "2  Smartly priced 1950 SQ FT apartment, that you ...   3    4   1,950 sqft   \n",
       "3  2000 Sq Ft Residential Apartment Is Up For Ren...   3    3   2,000 sqft   \n",
       "4  Strongly Structured This 1650 Sq. ft Apartment...   3    4   1,650 sqft   \n",
       "\n",
       "                               adress       type   purpose  \\\n",
       "0     Block A, Bashundhara R-A, Dhaka  Apartment  For Rent   \n",
       "1  South Khulshi, Khulshi, Chattogram  Apartment  For Rent   \n",
       "2     Block F, Bashundhara R-A, Dhaka  Apartment  For Rent   \n",
       "3             Sector 9, Uttara, Dhaka  Apartment  For Rent   \n",
       "4     Block I, Bashundhara R-A, Dhaka  Apartment  For Rent   \n",
       "\n",
       "                                            flooPlan  \\\n",
       "0  https://images-cdn.bproperty.com/thumbnails/10...   \n",
       "1  https://images-cdn.bproperty.com/thumbnails/44...   \n",
       "2  https://images-cdn.bproperty.com/thumbnails/11...   \n",
       "3  https://images-cdn.bproperty.com/thumbnails/14...   \n",
       "4  https://images-cdn.bproperty.com/thumbnails/10...   \n",
       "\n",
       "                                                 url        lastUpdated  \\\n",
       "0  https://www.bproperty.com/en/property/details-...    August 13, 2022   \n",
       "1  https://www.bproperty.com/en/property/details-...   January 25, 2022   \n",
       "2  https://www.bproperty.com/en/property/details-...  February 22, 2023   \n",
       "3  https://www.bproperty.com/en/property/details-...   October 28, 2021   \n",
       "4  https://www.bproperty.com/en/property/details-...  February 19, 2023   \n",
       "\n",
       "         price  \n",
       "0  50 Thousand  \n",
       "1  30 Thousand  \n",
       "2  30 Thousand  \n",
       "3  35 Thousand  \n",
       "4  25 Thousand  "
      ]
     },
     "execution_count": 2,
     "metadata": {},
     "output_type": "execute_result"
    }
   ],
   "source": [
    "#getting data\n",
    "\n",
    "df = pd.read_csv(\"C:/Users/HP/Desktop/Projects/bProperty/property_listing_data_in_Bangladesh.csv\")\n",
    "df.head()"
   ]
  },
  {
   "cell_type": "code",
   "execution_count": 3,
   "id": "23671f1c",
   "metadata": {},
   "outputs": [
    {
     "name": "stdout",
     "output_type": "stream",
     "text": [
      "<class 'pandas.core.frame.DataFrame'>\n",
      "RangeIndex: 7557 entries, 0 to 7556\n",
      "Data columns (total 11 columns):\n",
      " #   Column       Non-Null Count  Dtype \n",
      "---  ------       --------------  ----- \n",
      " 0   title        7557 non-null   object\n",
      " 1   beds         7557 non-null   object\n",
      " 2   bath         7557 non-null   object\n",
      " 3   area         7557 non-null   object\n",
      " 4   adress       7557 non-null   object\n",
      " 5   type         7557 non-null   object\n",
      " 6   purpose      7557 non-null   object\n",
      " 7   flooPlan     7556 non-null   object\n",
      " 8   url          7557 non-null   object\n",
      " 9   lastUpdated  7557 non-null   object\n",
      " 10  price        7557 non-null   object\n",
      "dtypes: object(11)\n",
      "memory usage: 649.6+ KB\n"
     ]
    }
   ],
   "source": [
    "df.info()"
   ]
  },
  {
   "cell_type": "code",
   "execution_count": 4,
   "id": "4053975a",
   "metadata": {},
   "outputs": [
    {
     "data": {
      "text/plain": [
       "Index(['title', 'beds', 'bath', 'area', 'adress', 'type', 'purpose',\n",
       "       'flooPlan', 'url', 'lastUpdated', 'price'],\n",
       "      dtype='object')"
      ]
     },
     "execution_count": 4,
     "metadata": {},
     "output_type": "execute_result"
    }
   ],
   "source": [
    "df.columns"
   ]
  },
  {
   "cell_type": "code",
   "execution_count": 5,
   "id": "6fd2f696",
   "metadata": {},
   "outputs": [
    {
     "data": {
      "text/plain": [
       "title          0\n",
       "beds           0\n",
       "bath           0\n",
       "area           0\n",
       "adress         0\n",
       "type           0\n",
       "purpose        0\n",
       "flooPlan       1\n",
       "url            0\n",
       "lastUpdated    0\n",
       "price          0\n",
       "dtype: int64"
      ]
     },
     "execution_count": 5,
     "metadata": {},
     "output_type": "execute_result"
    }
   ],
   "source": [
    "#checking for null values\n",
    "df.isna().sum()"
   ]
  },
  {
   "cell_type": "code",
   "execution_count": 6,
   "id": "4728a226",
   "metadata": {},
   "outputs": [],
   "source": [
    "# Drop rows with any null values\n",
    "df.dropna(inplace=True)"
   ]
  },
  {
   "cell_type": "code",
   "execution_count": 7,
   "id": "41dd62d0",
   "metadata": {},
   "outputs": [
    {
     "data": {
      "text/plain": [
       "title          0\n",
       "beds           0\n",
       "bath           0\n",
       "area           0\n",
       "adress         0\n",
       "type           0\n",
       "purpose        0\n",
       "flooPlan       0\n",
       "url            0\n",
       "lastUpdated    0\n",
       "price          0\n",
       "dtype: int64"
      ]
     },
     "execution_count": 7,
     "metadata": {},
     "output_type": "execute_result"
    }
   ],
   "source": [
    "#checking for null values\n",
    "df.isna().sum()"
   ]
  },
  {
   "cell_type": "code",
   "execution_count": 8,
   "id": "28ebf46f",
   "metadata": {},
   "outputs": [
    {
     "name": "stdout",
     "output_type": "stream",
     "text": [
      "<class 'pandas.core.frame.DataFrame'>\n",
      "Int64Index: 7556 entries, 0 to 7556\n",
      "Data columns (total 11 columns):\n",
      " #   Column       Non-Null Count  Dtype \n",
      "---  ------       --------------  ----- \n",
      " 0   title        7556 non-null   object\n",
      " 1   beds         7556 non-null   object\n",
      " 2   bath         7556 non-null   object\n",
      " 3   area         7556 non-null   object\n",
      " 4   adress       7556 non-null   object\n",
      " 5   type         7556 non-null   object\n",
      " 6   purpose      7556 non-null   object\n",
      " 7   flooPlan     7556 non-null   object\n",
      " 8   url          7556 non-null   object\n",
      " 9   lastUpdated  7556 non-null   object\n",
      " 10  price        7556 non-null   object\n",
      "dtypes: object(11)\n",
      "memory usage: 708.4+ KB\n"
     ]
    }
   ],
   "source": [
    "df.info()"
   ]
  },
  {
   "cell_type": "code",
   "execution_count": 9,
   "id": "de4ba250",
   "metadata": {},
   "outputs": [
    {
     "name": "stdout",
     "output_type": "stream",
     "text": [
      "For Rent    7556\n",
      "Name: purpose, dtype: int64\n"
     ]
    }
   ],
   "source": [
    "# Count the occurrences of each purpose\n",
    "purpose_counts = df['purpose'].value_counts()\n",
    "print(purpose_counts)"
   ]
  },
  {
   "cell_type": "code",
   "execution_count": 10,
   "id": "56ec27f2",
   "metadata": {},
   "outputs": [
    {
     "name": "stdout",
     "output_type": "stream",
     "text": [
      "<class 'pandas.core.frame.DataFrame'>\n",
      "Int64Index: 7556 entries, 0 to 7556\n",
      "Data columns (total 7 columns):\n",
      " #   Column       Non-Null Count  Dtype \n",
      "---  ------       --------------  ----- \n",
      " 0   beds         7556 non-null   object\n",
      " 1   bath         7556 non-null   object\n",
      " 2   area         7556 non-null   object\n",
      " 3   adress       7556 non-null   object\n",
      " 4   type         7556 non-null   object\n",
      " 5   lastUpdated  7556 non-null   object\n",
      " 6   price        7556 non-null   object\n",
      "dtypes: object(7)\n",
      "memory usage: 472.2+ KB\n",
      "None\n"
     ]
    },
    {
     "data": {
      "text/html": [
       "<div>\n",
       "<style scoped>\n",
       "    .dataframe tbody tr th:only-of-type {\n",
       "        vertical-align: middle;\n",
       "    }\n",
       "\n",
       "    .dataframe tbody tr th {\n",
       "        vertical-align: top;\n",
       "    }\n",
       "\n",
       "    .dataframe thead th {\n",
       "        text-align: right;\n",
       "    }\n",
       "</style>\n",
       "<table border=\"1\" class=\"dataframe\">\n",
       "  <thead>\n",
       "    <tr style=\"text-align: right;\">\n",
       "      <th></th>\n",
       "      <th>beds</th>\n",
       "      <th>bath</th>\n",
       "      <th>area</th>\n",
       "      <th>adress</th>\n",
       "      <th>type</th>\n",
       "      <th>lastUpdated</th>\n",
       "      <th>price</th>\n",
       "    </tr>\n",
       "  </thead>\n",
       "  <tbody>\n",
       "    <tr>\n",
       "      <th>0</th>\n",
       "      <td>3</td>\n",
       "      <td>4</td>\n",
       "      <td>2,200 sqft</td>\n",
       "      <td>Block A, Bashundhara R-A, Dhaka</td>\n",
       "      <td>Apartment</td>\n",
       "      <td>August 13, 2022</td>\n",
       "      <td>50 Thousand</td>\n",
       "    </tr>\n",
       "    <tr>\n",
       "      <th>1</th>\n",
       "      <td>3</td>\n",
       "      <td>4</td>\n",
       "      <td>1,400 sqft</td>\n",
       "      <td>South Khulshi, Khulshi, Chattogram</td>\n",
       "      <td>Apartment</td>\n",
       "      <td>January 25, 2022</td>\n",
       "      <td>30 Thousand</td>\n",
       "    </tr>\n",
       "    <tr>\n",
       "      <th>2</th>\n",
       "      <td>3</td>\n",
       "      <td>4</td>\n",
       "      <td>1,950 sqft</td>\n",
       "      <td>Block F, Bashundhara R-A, Dhaka</td>\n",
       "      <td>Apartment</td>\n",
       "      <td>February 22, 2023</td>\n",
       "      <td>30 Thousand</td>\n",
       "    </tr>\n",
       "    <tr>\n",
       "      <th>3</th>\n",
       "      <td>3</td>\n",
       "      <td>3</td>\n",
       "      <td>2,000 sqft</td>\n",
       "      <td>Sector 9, Uttara, Dhaka</td>\n",
       "      <td>Apartment</td>\n",
       "      <td>October 28, 2021</td>\n",
       "      <td>35 Thousand</td>\n",
       "    </tr>\n",
       "    <tr>\n",
       "      <th>4</th>\n",
       "      <td>3</td>\n",
       "      <td>4</td>\n",
       "      <td>1,650 sqft</td>\n",
       "      <td>Block I, Bashundhara R-A, Dhaka</td>\n",
       "      <td>Apartment</td>\n",
       "      <td>February 19, 2023</td>\n",
       "      <td>25 Thousand</td>\n",
       "    </tr>\n",
       "  </tbody>\n",
       "</table>\n",
       "</div>"
      ],
      "text/plain": [
       "  beds bath        area                              adress       type  \\\n",
       "0   3    4   2,200 sqft     Block A, Bashundhara R-A, Dhaka  Apartment   \n",
       "1   3    4   1,400 sqft  South Khulshi, Khulshi, Chattogram  Apartment   \n",
       "2   3    4   1,950 sqft     Block F, Bashundhara R-A, Dhaka  Apartment   \n",
       "3   3    3   2,000 sqft             Sector 9, Uttara, Dhaka  Apartment   \n",
       "4   3    4   1,650 sqft     Block I, Bashundhara R-A, Dhaka  Apartment   \n",
       "\n",
       "         lastUpdated        price  \n",
       "0    August 13, 2022  50 Thousand  \n",
       "1   January 25, 2022  30 Thousand  \n",
       "2  February 22, 2023  30 Thousand  \n",
       "3   October 28, 2021  35 Thousand  \n",
       "4  February 19, 2023  25 Thousand  "
      ]
     },
     "execution_count": 10,
     "metadata": {},
     "output_type": "execute_result"
    }
   ],
   "source": [
    "#droping unnessary coloumns\n",
    "\n",
    "df.drop([\"title\",\"flooPlan\",\"url\",\"purpose\"],axis = 1, inplace = True)\n",
    "print(df.info())\n",
    "df.head(5)"
   ]
  },
  {
   "cell_type": "code",
   "execution_count": 11,
   "id": "5b7b44a6",
   "metadata": {},
   "outputs": [
    {
     "name": "stdout",
     "output_type": "stream",
     "text": [
      "Duplicate rows:  1145\n"
     ]
    },
    {
     "data": {
      "text/html": [
       "<div>\n",
       "<style scoped>\n",
       "    .dataframe tbody tr th:only-of-type {\n",
       "        vertical-align: middle;\n",
       "    }\n",
       "\n",
       "    .dataframe tbody tr th {\n",
       "        vertical-align: top;\n",
       "    }\n",
       "\n",
       "    .dataframe thead th {\n",
       "        text-align: right;\n",
       "    }\n",
       "</style>\n",
       "<table border=\"1\" class=\"dataframe\">\n",
       "  <thead>\n",
       "    <tr style=\"text-align: right;\">\n",
       "      <th></th>\n",
       "      <th>beds</th>\n",
       "      <th>bath</th>\n",
       "      <th>area</th>\n",
       "      <th>adress</th>\n",
       "      <th>type</th>\n",
       "      <th>lastUpdated</th>\n",
       "      <th>price</th>\n",
       "    </tr>\n",
       "  </thead>\n",
       "  <tbody>\n",
       "    <tr>\n",
       "      <th>9</th>\n",
       "      <td>3</td>\n",
       "      <td>3</td>\n",
       "      <td>1,250 sqft</td>\n",
       "      <td>Block K, Bashundhara R-A, Dhaka</td>\n",
       "      <td>Apartment</td>\n",
       "      <td>January 4, 2023</td>\n",
       "      <td>23 Thousand</td>\n",
       "    </tr>\n",
       "    <tr>\n",
       "      <th>10</th>\n",
       "      <td>3</td>\n",
       "      <td>3</td>\n",
       "      <td>1,250 sqft</td>\n",
       "      <td>Block K, Bashundhara R-A, Dhaka</td>\n",
       "      <td>Apartment</td>\n",
       "      <td>January 4, 2023</td>\n",
       "      <td>23 Thousand</td>\n",
       "    </tr>\n",
       "    <tr>\n",
       "      <th>16</th>\n",
       "      <td>3</td>\n",
       "      <td>3</td>\n",
       "      <td>1,250 sqft</td>\n",
       "      <td>Block K, Bashundhara R-A, Dhaka</td>\n",
       "      <td>Apartment</td>\n",
       "      <td>January 4, 2023</td>\n",
       "      <td>21 Thousand</td>\n",
       "    </tr>\n",
       "    <tr>\n",
       "      <th>19</th>\n",
       "      <td>3</td>\n",
       "      <td>3</td>\n",
       "      <td>1,250 sqft</td>\n",
       "      <td>Block K, Bashundhara R-A, Dhaka</td>\n",
       "      <td>Apartment</td>\n",
       "      <td>January 4, 2023</td>\n",
       "      <td>23 Thousand</td>\n",
       "    </tr>\n",
       "    <tr>\n",
       "      <th>20</th>\n",
       "      <td>3</td>\n",
       "      <td>3</td>\n",
       "      <td>1,250 sqft</td>\n",
       "      <td>Block K, Bashundhara R-A, Dhaka</td>\n",
       "      <td>Apartment</td>\n",
       "      <td>January 4, 2023</td>\n",
       "      <td>23 Thousand</td>\n",
       "    </tr>\n",
       "    <tr>\n",
       "      <th>22</th>\n",
       "      <td>3</td>\n",
       "      <td>3</td>\n",
       "      <td>1,250 sqft</td>\n",
       "      <td>Block K, Bashundhara R-A, Dhaka</td>\n",
       "      <td>Apartment</td>\n",
       "      <td>January 4, 2023</td>\n",
       "      <td>21 Thousand</td>\n",
       "    </tr>\n",
       "    <tr>\n",
       "      <th>31</th>\n",
       "      <td>3</td>\n",
       "      <td>3</td>\n",
       "      <td>1,250 sqft</td>\n",
       "      <td>Block K, Bashundhara R-A, Dhaka</td>\n",
       "      <td>Apartment</td>\n",
       "      <td>January 4, 2023</td>\n",
       "      <td>23 Thousand</td>\n",
       "    </tr>\n",
       "    <tr>\n",
       "      <th>33</th>\n",
       "      <td>3</td>\n",
       "      <td>3</td>\n",
       "      <td>1,250 sqft</td>\n",
       "      <td>Block K, Bashundhara R-A, Dhaka</td>\n",
       "      <td>Apartment</td>\n",
       "      <td>January 4, 2023</td>\n",
       "      <td>21 Thousand</td>\n",
       "    </tr>\n",
       "    <tr>\n",
       "      <th>71</th>\n",
       "      <td>4</td>\n",
       "      <td>4</td>\n",
       "      <td>3,200 sqft</td>\n",
       "      <td>Gulshan 1, Gulshan, Dhaka</td>\n",
       "      <td>Apartment</td>\n",
       "      <td>November 28, 2021</td>\n",
       "      <td>2.5 Lakh</td>\n",
       "    </tr>\n",
       "    <tr>\n",
       "      <th>77</th>\n",
       "      <td>3</td>\n",
       "      <td>4</td>\n",
       "      <td>1,850 sqft</td>\n",
       "      <td>Dhanmondi, Dhaka</td>\n",
       "      <td>Apartment</td>\n",
       "      <td>February 19, 2023</td>\n",
       "      <td>60 Thousand</td>\n",
       "    </tr>\n",
       "  </tbody>\n",
       "</table>\n",
       "</div>"
      ],
      "text/plain": [
       "   beds bath        area                           adress       type  \\\n",
       "9    3    3   1,250 sqft  Block K, Bashundhara R-A, Dhaka  Apartment   \n",
       "10   3    3   1,250 sqft  Block K, Bashundhara R-A, Dhaka  Apartment   \n",
       "16   3    3   1,250 sqft  Block K, Bashundhara R-A, Dhaka  Apartment   \n",
       "19   3    3   1,250 sqft  Block K, Bashundhara R-A, Dhaka  Apartment   \n",
       "20   3    3   1,250 sqft  Block K, Bashundhara R-A, Dhaka  Apartment   \n",
       "22   3    3   1,250 sqft  Block K, Bashundhara R-A, Dhaka  Apartment   \n",
       "31   3    3   1,250 sqft  Block K, Bashundhara R-A, Dhaka  Apartment   \n",
       "33   3    3   1,250 sqft  Block K, Bashundhara R-A, Dhaka  Apartment   \n",
       "71   4    4   3,200 sqft        Gulshan 1, Gulshan, Dhaka  Apartment   \n",
       "77   3    4   1,850 sqft                 Dhanmondi, Dhaka  Apartment   \n",
       "\n",
       "          lastUpdated        price  \n",
       "9     January 4, 2023  23 Thousand  \n",
       "10    January 4, 2023  23 Thousand  \n",
       "16    January 4, 2023  21 Thousand  \n",
       "19    January 4, 2023  23 Thousand  \n",
       "20    January 4, 2023  23 Thousand  \n",
       "22    January 4, 2023  21 Thousand  \n",
       "31    January 4, 2023  23 Thousand  \n",
       "33    January 4, 2023  21 Thousand  \n",
       "71  November 28, 2021     2.5 Lakh  \n",
       "77  February 19, 2023  60 Thousand  "
      ]
     },
     "execution_count": 11,
     "metadata": {},
     "output_type": "execute_result"
    }
   ],
   "source": [
    "# Find duplicate rows with all values matching\n",
    "duplicated_rows = df[df.duplicated(keep='first')]\n",
    "duplicate_count = duplicated_rows.shape[0]\n",
    "print(\"Duplicate rows: \", duplicate_count)\n",
    "\n",
    "duplicated_rows.head(10)"
   ]
  },
  {
   "cell_type": "code",
   "execution_count": 12,
   "id": "8c096432",
   "metadata": {},
   "outputs": [
    {
     "name": "stdout",
     "output_type": "stream",
     "text": [
      "<class 'pandas.core.frame.DataFrame'>\n",
      "Int64Index: 6411 entries, 0 to 7556\n",
      "Data columns (total 7 columns):\n",
      " #   Column       Non-Null Count  Dtype \n",
      "---  ------       --------------  ----- \n",
      " 0   beds         6411 non-null   object\n",
      " 1   bath         6411 non-null   object\n",
      " 2   area         6411 non-null   object\n",
      " 3   adress       6411 non-null   object\n",
      " 4   type         6411 non-null   object\n",
      " 5   lastUpdated  6411 non-null   object\n",
      " 6   price        6411 non-null   object\n",
      "dtypes: object(7)\n",
      "memory usage: 400.7+ KB\n",
      "None\n"
     ]
    }
   ],
   "source": [
    "# Drop duplicate rows where all values match with others\n",
    "df.drop_duplicates(keep='first', inplace=True)\n",
    "print(df.info())"
   ]
  },
  {
   "cell_type": "code",
   "execution_count": null,
   "id": "0cb54f9a",
   "metadata": {},
   "outputs": [],
   "source": []
  },
  {
   "cell_type": "markdown",
   "id": "fd7808c5",
   "metadata": {},
   "source": [
    "Fixing area coloumns"
   ]
  },
  {
   "cell_type": "code",
   "execution_count": 16,
   "id": "e908654d",
   "metadata": {},
   "outputs": [
    {
     "data": {
      "text/html": [
       "<div>\n",
       "<style scoped>\n",
       "    .dataframe tbody tr th:only-of-type {\n",
       "        vertical-align: middle;\n",
       "    }\n",
       "\n",
       "    .dataframe tbody tr th {\n",
       "        vertical-align: top;\n",
       "    }\n",
       "\n",
       "    .dataframe thead th {\n",
       "        text-align: right;\n",
       "    }\n",
       "</style>\n",
       "<table border=\"1\" class=\"dataframe\">\n",
       "  <thead>\n",
       "    <tr style=\"text-align: right;\">\n",
       "      <th></th>\n",
       "      <th>beds</th>\n",
       "      <th>bath</th>\n",
       "      <th>area</th>\n",
       "      <th>adress</th>\n",
       "      <th>type</th>\n",
       "      <th>lastUpdated</th>\n",
       "      <th>price</th>\n",
       "      <th>area_sqft</th>\n",
       "    </tr>\n",
       "  </thead>\n",
       "  <tbody>\n",
       "    <tr>\n",
       "      <th>0</th>\n",
       "      <td>3</td>\n",
       "      <td>4</td>\n",
       "      <td>2,200 sqft</td>\n",
       "      <td>Block A, Bashundhara R-A, Dhaka</td>\n",
       "      <td>Apartment</td>\n",
       "      <td>August 13, 2022</td>\n",
       "      <td>50 Thousand</td>\n",
       "      <td>2,200</td>\n",
       "    </tr>\n",
       "    <tr>\n",
       "      <th>1</th>\n",
       "      <td>3</td>\n",
       "      <td>4</td>\n",
       "      <td>1,400 sqft</td>\n",
       "      <td>South Khulshi, Khulshi, Chattogram</td>\n",
       "      <td>Apartment</td>\n",
       "      <td>January 25, 2022</td>\n",
       "      <td>30 Thousand</td>\n",
       "      <td>1,400</td>\n",
       "    </tr>\n",
       "    <tr>\n",
       "      <th>2</th>\n",
       "      <td>3</td>\n",
       "      <td>4</td>\n",
       "      <td>1,950 sqft</td>\n",
       "      <td>Block F, Bashundhara R-A, Dhaka</td>\n",
       "      <td>Apartment</td>\n",
       "      <td>February 22, 2023</td>\n",
       "      <td>30 Thousand</td>\n",
       "      <td>1,950</td>\n",
       "    </tr>\n",
       "  </tbody>\n",
       "</table>\n",
       "</div>"
      ],
      "text/plain": [
       "  beds bath        area                              adress       type  \\\n",
       "0   3    4   2,200 sqft     Block A, Bashundhara R-A, Dhaka  Apartment   \n",
       "1   3    4   1,400 sqft  South Khulshi, Khulshi, Chattogram  Apartment   \n",
       "2   3    4   1,950 sqft     Block F, Bashundhara R-A, Dhaka  Apartment   \n",
       "\n",
       "         lastUpdated        price area_sqft  \n",
       "0    August 13, 2022  50 Thousand     2,200  \n",
       "1   January 25, 2022  30 Thousand     1,400  \n",
       "2  February 22, 2023  30 Thousand     1,950  "
      ]
     },
     "execution_count": 16,
     "metadata": {},
     "output_type": "execute_result"
    }
   ],
   "source": [
    "df[\"area_sqft\"] = df[\"area\"].apply(lambda x: x.split(\" \")[0])\n",
    "df[\"area_sqft\"][:5]\n",
    "df.head(3)"
   ]
  },
  {
   "cell_type": "code",
   "execution_count": 17,
   "id": "4fde8bc9",
   "metadata": {},
   "outputs": [
    {
     "data": {
      "text/html": [
       "<div>\n",
       "<style scoped>\n",
       "    .dataframe tbody tr th:only-of-type {\n",
       "        vertical-align: middle;\n",
       "    }\n",
       "\n",
       "    .dataframe tbody tr th {\n",
       "        vertical-align: top;\n",
       "    }\n",
       "\n",
       "    .dataframe thead th {\n",
       "        text-align: right;\n",
       "    }\n",
       "</style>\n",
       "<table border=\"1\" class=\"dataframe\">\n",
       "  <thead>\n",
       "    <tr style=\"text-align: right;\">\n",
       "      <th></th>\n",
       "      <th>beds</th>\n",
       "      <th>bath</th>\n",
       "      <th>area</th>\n",
       "      <th>adress</th>\n",
       "      <th>type</th>\n",
       "      <th>lastUpdated</th>\n",
       "      <th>price</th>\n",
       "      <th>area_sqft</th>\n",
       "    </tr>\n",
       "  </thead>\n",
       "  <tbody>\n",
       "    <tr>\n",
       "      <th>0</th>\n",
       "      <td>3</td>\n",
       "      <td>4</td>\n",
       "      <td>2,200 sqft</td>\n",
       "      <td>Block A, Bashundhara R-A, Dhaka</td>\n",
       "      <td>Apartment</td>\n",
       "      <td>August 13, 2022</td>\n",
       "      <td>50 Thousand</td>\n",
       "      <td>2200</td>\n",
       "    </tr>\n",
       "    <tr>\n",
       "      <th>1</th>\n",
       "      <td>3</td>\n",
       "      <td>4</td>\n",
       "      <td>1,400 sqft</td>\n",
       "      <td>South Khulshi, Khulshi, Chattogram</td>\n",
       "      <td>Apartment</td>\n",
       "      <td>January 25, 2022</td>\n",
       "      <td>30 Thousand</td>\n",
       "      <td>1400</td>\n",
       "    </tr>\n",
       "    <tr>\n",
       "      <th>2</th>\n",
       "      <td>3</td>\n",
       "      <td>4</td>\n",
       "      <td>1,950 sqft</td>\n",
       "      <td>Block F, Bashundhara R-A, Dhaka</td>\n",
       "      <td>Apartment</td>\n",
       "      <td>February 22, 2023</td>\n",
       "      <td>30 Thousand</td>\n",
       "      <td>1950</td>\n",
       "    </tr>\n",
       "  </tbody>\n",
       "</table>\n",
       "</div>"
      ],
      "text/plain": [
       "  beds bath        area                              adress       type  \\\n",
       "0   3    4   2,200 sqft     Block A, Bashundhara R-A, Dhaka  Apartment   \n",
       "1   3    4   1,400 sqft  South Khulshi, Khulshi, Chattogram  Apartment   \n",
       "2   3    4   1,950 sqft     Block F, Bashundhara R-A, Dhaka  Apartment   \n",
       "\n",
       "         lastUpdated        price  area_sqft  \n",
       "0    August 13, 2022  50 Thousand       2200  \n",
       "1   January 25, 2022  30 Thousand       1400  \n",
       "2  February 22, 2023  30 Thousand       1950  "
      ]
     },
     "execution_count": 17,
     "metadata": {},
     "output_type": "execute_result"
    }
   ],
   "source": [
    "df[\"area_sqft\"] = df[\"area_sqft\"].apply(lambda x: int(x.replace(\",\", \"\")))\n",
    "df.head(3)"
   ]
  },
  {
   "cell_type": "markdown",
   "id": "d00b001e",
   "metadata": {},
   "source": [
    "Fixing Price coloumn"
   ]
  },
  {
   "cell_type": "code",
   "execution_count": 18,
   "id": "2d82220f",
   "metadata": {},
   "outputs": [
    {
     "name": "stdout",
     "output_type": "stream",
     "text": [
      "Thousand    6022\n",
      "Lakh         389\n",
      "Name: PriceUnit, dtype: int64\n"
     ]
    },
    {
     "data": {
      "text/html": [
       "<div>\n",
       "<style scoped>\n",
       "    .dataframe tbody tr th:only-of-type {\n",
       "        vertical-align: middle;\n",
       "    }\n",
       "\n",
       "    .dataframe tbody tr th {\n",
       "        vertical-align: top;\n",
       "    }\n",
       "\n",
       "    .dataframe thead th {\n",
       "        text-align: right;\n",
       "    }\n",
       "</style>\n",
       "<table border=\"1\" class=\"dataframe\">\n",
       "  <thead>\n",
       "    <tr style=\"text-align: right;\">\n",
       "      <th></th>\n",
       "      <th>beds</th>\n",
       "      <th>bath</th>\n",
       "      <th>area</th>\n",
       "      <th>adress</th>\n",
       "      <th>type</th>\n",
       "      <th>lastUpdated</th>\n",
       "      <th>price</th>\n",
       "      <th>area_sqft</th>\n",
       "      <th>PriceUnit</th>\n",
       "    </tr>\n",
       "  </thead>\n",
       "  <tbody>\n",
       "    <tr>\n",
       "      <th>3</th>\n",
       "      <td>3</td>\n",
       "      <td>3</td>\n",
       "      <td>2,000 sqft</td>\n",
       "      <td>Sector 9, Uttara, Dhaka</td>\n",
       "      <td>Apartment</td>\n",
       "      <td>October 28, 2021</td>\n",
       "      <td>35 Thousand</td>\n",
       "      <td>2000</td>\n",
       "      <td>Thousand</td>\n",
       "    </tr>\n",
       "    <tr>\n",
       "      <th>4</th>\n",
       "      <td>3</td>\n",
       "      <td>4</td>\n",
       "      <td>1,650 sqft</td>\n",
       "      <td>Block I, Bashundhara R-A, Dhaka</td>\n",
       "      <td>Apartment</td>\n",
       "      <td>February 19, 2023</td>\n",
       "      <td>25 Thousand</td>\n",
       "      <td>1650</td>\n",
       "      <td>Thousand</td>\n",
       "    </tr>\n",
       "    <tr>\n",
       "      <th>5</th>\n",
       "      <td>5</td>\n",
       "      <td>5</td>\n",
       "      <td>3,400 sqft</td>\n",
       "      <td>Gulshan 1, Gulshan, Dhaka</td>\n",
       "      <td>Apartment</td>\n",
       "      <td>February 14, 2023</td>\n",
       "      <td>1.1 Lakh</td>\n",
       "      <td>3400</td>\n",
       "      <td>Lakh</td>\n",
       "    </tr>\n",
       "    <tr>\n",
       "      <th>6</th>\n",
       "      <td>3</td>\n",
       "      <td>3</td>\n",
       "      <td>1,600 sqft</td>\n",
       "      <td>Sector 6, Uttara, Dhaka</td>\n",
       "      <td>Apartment</td>\n",
       "      <td>August 6, 2022</td>\n",
       "      <td>35 Thousand</td>\n",
       "      <td>1600</td>\n",
       "      <td>Thousand</td>\n",
       "    </tr>\n",
       "    <tr>\n",
       "      <th>7</th>\n",
       "      <td>3</td>\n",
       "      <td>3</td>\n",
       "      <td>1,250 sqft</td>\n",
       "      <td>Block K, Bashundhara R-A, Dhaka</td>\n",
       "      <td>Apartment</td>\n",
       "      <td>January 4, 2023</td>\n",
       "      <td>23 Thousand</td>\n",
       "      <td>1250</td>\n",
       "      <td>Thousand</td>\n",
       "    </tr>\n",
       "  </tbody>\n",
       "</table>\n",
       "</div>"
      ],
      "text/plain": [
       "  beds bath        area                           adress       type  \\\n",
       "3   3    3   2,000 sqft          Sector 9, Uttara, Dhaka  Apartment   \n",
       "4   3    4   1,650 sqft  Block I, Bashundhara R-A, Dhaka  Apartment   \n",
       "5   5    5   3,400 sqft        Gulshan 1, Gulshan, Dhaka  Apartment   \n",
       "6   3    3   1,600 sqft          Sector 6, Uttara, Dhaka  Apartment   \n",
       "7   3    3   1,250 sqft  Block K, Bashundhara R-A, Dhaka  Apartment   \n",
       "\n",
       "         lastUpdated        price  area_sqft PriceUnit  \n",
       "3   October 28, 2021  35 Thousand       2000  Thousand  \n",
       "4  February 19, 2023  25 Thousand       1650  Thousand  \n",
       "5  February 14, 2023     1.1 Lakh       3400      Lakh  \n",
       "6     August 6, 2022  35 Thousand       1600  Thousand  \n",
       "7    January 4, 2023  23 Thousand       1250  Thousand  "
      ]
     },
     "execution_count": 18,
     "metadata": {},
     "output_type": "execute_result"
    }
   ],
   "source": [
    "df[\"PriceUnit\"] =df[\"price\"].apply(lambda x: x.split(\" \")[1])#[:5])\n",
    "print(df[\"PriceUnit\"].value_counts())\n",
    "\n",
    "df[df['PriceUnit'] == \"Thousand\"]\n",
    "df[3:8]"
   ]
  },
  {
   "cell_type": "code",
   "execution_count": 19,
   "id": "8232cbd5",
   "metadata": {},
   "outputs": [
    {
     "data": {
      "text/html": [
       "<div>\n",
       "<style scoped>\n",
       "    .dataframe tbody tr th:only-of-type {\n",
       "        vertical-align: middle;\n",
       "    }\n",
       "\n",
       "    .dataframe tbody tr th {\n",
       "        vertical-align: top;\n",
       "    }\n",
       "\n",
       "    .dataframe thead th {\n",
       "        text-align: right;\n",
       "    }\n",
       "</style>\n",
       "<table border=\"1\" class=\"dataframe\">\n",
       "  <thead>\n",
       "    <tr style=\"text-align: right;\">\n",
       "      <th></th>\n",
       "      <th>beds</th>\n",
       "      <th>bath</th>\n",
       "      <th>area</th>\n",
       "      <th>adress</th>\n",
       "      <th>type</th>\n",
       "      <th>lastUpdated</th>\n",
       "      <th>price</th>\n",
       "      <th>area_sqft</th>\n",
       "      <th>PriceUnit</th>\n",
       "      <th>Price</th>\n",
       "    </tr>\n",
       "  </thead>\n",
       "  <tbody>\n",
       "    <tr>\n",
       "      <th>0</th>\n",
       "      <td>3</td>\n",
       "      <td>4</td>\n",
       "      <td>2,200 sqft</td>\n",
       "      <td>Block A, Bashundhara R-A, Dhaka</td>\n",
       "      <td>Apartment</td>\n",
       "      <td>August 13, 2022</td>\n",
       "      <td>50 Thousand</td>\n",
       "      <td>2200</td>\n",
       "      <td>Thousand</td>\n",
       "      <td>50000.0</td>\n",
       "    </tr>\n",
       "    <tr>\n",
       "      <th>1</th>\n",
       "      <td>3</td>\n",
       "      <td>4</td>\n",
       "      <td>1,400 sqft</td>\n",
       "      <td>South Khulshi, Khulshi, Chattogram</td>\n",
       "      <td>Apartment</td>\n",
       "      <td>January 25, 2022</td>\n",
       "      <td>30 Thousand</td>\n",
       "      <td>1400</td>\n",
       "      <td>Thousand</td>\n",
       "      <td>30000.0</td>\n",
       "    </tr>\n",
       "    <tr>\n",
       "      <th>2</th>\n",
       "      <td>3</td>\n",
       "      <td>4</td>\n",
       "      <td>1,950 sqft</td>\n",
       "      <td>Block F, Bashundhara R-A, Dhaka</td>\n",
       "      <td>Apartment</td>\n",
       "      <td>February 22, 2023</td>\n",
       "      <td>30 Thousand</td>\n",
       "      <td>1950</td>\n",
       "      <td>Thousand</td>\n",
       "      <td>30000.0</td>\n",
       "    </tr>\n",
       "    <tr>\n",
       "      <th>3</th>\n",
       "      <td>3</td>\n",
       "      <td>3</td>\n",
       "      <td>2,000 sqft</td>\n",
       "      <td>Sector 9, Uttara, Dhaka</td>\n",
       "      <td>Apartment</td>\n",
       "      <td>October 28, 2021</td>\n",
       "      <td>35 Thousand</td>\n",
       "      <td>2000</td>\n",
       "      <td>Thousand</td>\n",
       "      <td>35000.0</td>\n",
       "    </tr>\n",
       "    <tr>\n",
       "      <th>4</th>\n",
       "      <td>3</td>\n",
       "      <td>4</td>\n",
       "      <td>1,650 sqft</td>\n",
       "      <td>Block I, Bashundhara R-A, Dhaka</td>\n",
       "      <td>Apartment</td>\n",
       "      <td>February 19, 2023</td>\n",
       "      <td>25 Thousand</td>\n",
       "      <td>1650</td>\n",
       "      <td>Thousand</td>\n",
       "      <td>25000.0</td>\n",
       "    </tr>\n",
       "    <tr>\n",
       "      <th>5</th>\n",
       "      <td>5</td>\n",
       "      <td>5</td>\n",
       "      <td>3,400 sqft</td>\n",
       "      <td>Gulshan 1, Gulshan, Dhaka</td>\n",
       "      <td>Apartment</td>\n",
       "      <td>February 14, 2023</td>\n",
       "      <td>1.1 Lakh</td>\n",
       "      <td>3400</td>\n",
       "      <td>Lakh</td>\n",
       "      <td>110000.0</td>\n",
       "    </tr>\n",
       "    <tr>\n",
       "      <th>6</th>\n",
       "      <td>3</td>\n",
       "      <td>3</td>\n",
       "      <td>1,600 sqft</td>\n",
       "      <td>Sector 6, Uttara, Dhaka</td>\n",
       "      <td>Apartment</td>\n",
       "      <td>August 6, 2022</td>\n",
       "      <td>35 Thousand</td>\n",
       "      <td>1600</td>\n",
       "      <td>Thousand</td>\n",
       "      <td>35000.0</td>\n",
       "    </tr>\n",
       "    <tr>\n",
       "      <th>7</th>\n",
       "      <td>3</td>\n",
       "      <td>3</td>\n",
       "      <td>1,250 sqft</td>\n",
       "      <td>Block K, Bashundhara R-A, Dhaka</td>\n",
       "      <td>Apartment</td>\n",
       "      <td>January 4, 2023</td>\n",
       "      <td>23 Thousand</td>\n",
       "      <td>1250</td>\n",
       "      <td>Thousand</td>\n",
       "      <td>23000.0</td>\n",
       "    </tr>\n",
       "    <tr>\n",
       "      <th>8</th>\n",
       "      <td>3</td>\n",
       "      <td>4</td>\n",
       "      <td>2,150 sqft</td>\n",
       "      <td>Sector 10, Uttara, Dhaka</td>\n",
       "      <td>Apartment</td>\n",
       "      <td>June 28, 2022</td>\n",
       "      <td>40 Thousand</td>\n",
       "      <td>2150</td>\n",
       "      <td>Thousand</td>\n",
       "      <td>40000.0</td>\n",
       "    </tr>\n",
       "    <tr>\n",
       "      <th>11</th>\n",
       "      <td>3</td>\n",
       "      <td>3</td>\n",
       "      <td>1,580 sqft</td>\n",
       "      <td>Bayazid, Chattogram</td>\n",
       "      <td>Apartment</td>\n",
       "      <td>January 15, 2023</td>\n",
       "      <td>20 Thousand</td>\n",
       "      <td>1580</td>\n",
       "      <td>Thousand</td>\n",
       "      <td>20000.0</td>\n",
       "    </tr>\n",
       "  </tbody>\n",
       "</table>\n",
       "</div>"
      ],
      "text/plain": [
       "   beds bath        area                              adress       type  \\\n",
       "0    3    4   2,200 sqft     Block A, Bashundhara R-A, Dhaka  Apartment   \n",
       "1    3    4   1,400 sqft  South Khulshi, Khulshi, Chattogram  Apartment   \n",
       "2    3    4   1,950 sqft     Block F, Bashundhara R-A, Dhaka  Apartment   \n",
       "3    3    3   2,000 sqft             Sector 9, Uttara, Dhaka  Apartment   \n",
       "4    3    4   1,650 sqft     Block I, Bashundhara R-A, Dhaka  Apartment   \n",
       "5    5    5   3,400 sqft           Gulshan 1, Gulshan, Dhaka  Apartment   \n",
       "6    3    3   1,600 sqft             Sector 6, Uttara, Dhaka  Apartment   \n",
       "7    3    3   1,250 sqft     Block K, Bashundhara R-A, Dhaka  Apartment   \n",
       "8    3    4   2,150 sqft            Sector 10, Uttara, Dhaka  Apartment   \n",
       "11   3    3   1,580 sqft                 Bayazid, Chattogram  Apartment   \n",
       "\n",
       "          lastUpdated        price  area_sqft PriceUnit     Price  \n",
       "0     August 13, 2022  50 Thousand       2200  Thousand   50000.0  \n",
       "1    January 25, 2022  30 Thousand       1400  Thousand   30000.0  \n",
       "2   February 22, 2023  30 Thousand       1950  Thousand   30000.0  \n",
       "3    October 28, 2021  35 Thousand       2000  Thousand   35000.0  \n",
       "4   February 19, 2023  25 Thousand       1650  Thousand   25000.0  \n",
       "5   February 14, 2023     1.1 Lakh       3400      Lakh  110000.0  \n",
       "6      August 6, 2022  35 Thousand       1600  Thousand   35000.0  \n",
       "7     January 4, 2023  23 Thousand       1250  Thousand   23000.0  \n",
       "8       June 28, 2022  40 Thousand       2150  Thousand   40000.0  \n",
       "11   January 15, 2023  20 Thousand       1580  Thousand   20000.0  "
      ]
     },
     "execution_count": 19,
     "metadata": {},
     "output_type": "execute_result"
    }
   ],
   "source": [
    "df['Price'] = df['price'].apply(lambda x: float(x.split(\" \")[0])*1000 if x.split(\" \")[1] == \"Thousand\" else float(x.split(\" \")[0]) *100000)\n",
    "df.head(10)"
   ]
  },
  {
   "cell_type": "code",
   "execution_count": 20,
   "id": "18ec907a",
   "metadata": {},
   "outputs": [
    {
     "data": {
      "text/html": [
       "<div>\n",
       "<style scoped>\n",
       "    .dataframe tbody tr th:only-of-type {\n",
       "        vertical-align: middle;\n",
       "    }\n",
       "\n",
       "    .dataframe tbody tr th {\n",
       "        vertical-align: top;\n",
       "    }\n",
       "\n",
       "    .dataframe thead th {\n",
       "        text-align: right;\n",
       "    }\n",
       "</style>\n",
       "<table border=\"1\" class=\"dataframe\">\n",
       "  <thead>\n",
       "    <tr style=\"text-align: right;\">\n",
       "      <th></th>\n",
       "      <th>beds</th>\n",
       "      <th>bath</th>\n",
       "      <th>address</th>\n",
       "      <th>type</th>\n",
       "      <th>area_sqft</th>\n",
       "      <th>price</th>\n",
       "    </tr>\n",
       "  </thead>\n",
       "  <tbody>\n",
       "    <tr>\n",
       "      <th>0</th>\n",
       "      <td>3</td>\n",
       "      <td>4</td>\n",
       "      <td>Block A, Bashundhara R-A, Dhaka</td>\n",
       "      <td>Apartment</td>\n",
       "      <td>2200</td>\n",
       "      <td>50000.0</td>\n",
       "    </tr>\n",
       "    <tr>\n",
       "      <th>1</th>\n",
       "      <td>3</td>\n",
       "      <td>4</td>\n",
       "      <td>South Khulshi, Khulshi, Chattogram</td>\n",
       "      <td>Apartment</td>\n",
       "      <td>1400</td>\n",
       "      <td>30000.0</td>\n",
       "    </tr>\n",
       "    <tr>\n",
       "      <th>2</th>\n",
       "      <td>3</td>\n",
       "      <td>4</td>\n",
       "      <td>Block F, Bashundhara R-A, Dhaka</td>\n",
       "      <td>Apartment</td>\n",
       "      <td>1950</td>\n",
       "      <td>30000.0</td>\n",
       "    </tr>\n",
       "    <tr>\n",
       "      <th>3</th>\n",
       "      <td>3</td>\n",
       "      <td>3</td>\n",
       "      <td>Sector 9, Uttara, Dhaka</td>\n",
       "      <td>Apartment</td>\n",
       "      <td>2000</td>\n",
       "      <td>35000.0</td>\n",
       "    </tr>\n",
       "    <tr>\n",
       "      <th>4</th>\n",
       "      <td>3</td>\n",
       "      <td>4</td>\n",
       "      <td>Block I, Bashundhara R-A, Dhaka</td>\n",
       "      <td>Apartment</td>\n",
       "      <td>1650</td>\n",
       "      <td>25000.0</td>\n",
       "    </tr>\n",
       "    <tr>\n",
       "      <th>5</th>\n",
       "      <td>5</td>\n",
       "      <td>5</td>\n",
       "      <td>Gulshan 1, Gulshan, Dhaka</td>\n",
       "      <td>Apartment</td>\n",
       "      <td>3400</td>\n",
       "      <td>110000.0</td>\n",
       "    </tr>\n",
       "    <tr>\n",
       "      <th>6</th>\n",
       "      <td>3</td>\n",
       "      <td>3</td>\n",
       "      <td>Sector 6, Uttara, Dhaka</td>\n",
       "      <td>Apartment</td>\n",
       "      <td>1600</td>\n",
       "      <td>35000.0</td>\n",
       "    </tr>\n",
       "    <tr>\n",
       "      <th>7</th>\n",
       "      <td>3</td>\n",
       "      <td>3</td>\n",
       "      <td>Block K, Bashundhara R-A, Dhaka</td>\n",
       "      <td>Apartment</td>\n",
       "      <td>1250</td>\n",
       "      <td>23000.0</td>\n",
       "    </tr>\n",
       "    <tr>\n",
       "      <th>8</th>\n",
       "      <td>3</td>\n",
       "      <td>4</td>\n",
       "      <td>Sector 10, Uttara, Dhaka</td>\n",
       "      <td>Apartment</td>\n",
       "      <td>2150</td>\n",
       "      <td>40000.0</td>\n",
       "    </tr>\n",
       "    <tr>\n",
       "      <th>11</th>\n",
       "      <td>3</td>\n",
       "      <td>3</td>\n",
       "      <td>Bayazid, Chattogram</td>\n",
       "      <td>Apartment</td>\n",
       "      <td>1580</td>\n",
       "      <td>20000.0</td>\n",
       "    </tr>\n",
       "  </tbody>\n",
       "</table>\n",
       "</div>"
      ],
      "text/plain": [
       "   beds bath                             address       type  area_sqft  \\\n",
       "0    3    4      Block A, Bashundhara R-A, Dhaka  Apartment       2200   \n",
       "1    3    4   South Khulshi, Khulshi, Chattogram  Apartment       1400   \n",
       "2    3    4      Block F, Bashundhara R-A, Dhaka  Apartment       1950   \n",
       "3    3    3              Sector 9, Uttara, Dhaka  Apartment       2000   \n",
       "4    3    4      Block I, Bashundhara R-A, Dhaka  Apartment       1650   \n",
       "5    5    5            Gulshan 1, Gulshan, Dhaka  Apartment       3400   \n",
       "6    3    3              Sector 6, Uttara, Dhaka  Apartment       1600   \n",
       "7    3    3      Block K, Bashundhara R-A, Dhaka  Apartment       1250   \n",
       "8    3    4             Sector 10, Uttara, Dhaka  Apartment       2150   \n",
       "11   3    3                  Bayazid, Chattogram  Apartment       1580   \n",
       "\n",
       "       price  \n",
       "0    50000.0  \n",
       "1    30000.0  \n",
       "2    30000.0  \n",
       "3    35000.0  \n",
       "4    25000.0  \n",
       "5   110000.0  \n",
       "6    35000.0  \n",
       "7    23000.0  \n",
       "8    40000.0  \n",
       "11   20000.0  "
      ]
     },
     "execution_count": 20,
     "metadata": {},
     "output_type": "execute_result"
    }
   ],
   "source": [
    "# Drop columns\n",
    "df.drop(['area', 'PriceUnit', 'price','lastUpdated'], axis=1, inplace=True)\n",
    "\n",
    "# Replace column names\n",
    "df.rename(columns={'Price': 'price', 'adress': 'address'}, inplace=True)\n",
    "\n",
    "df.head(10)"
   ]
  },
  {
   "cell_type": "code",
   "execution_count": 27,
   "id": "684440eb",
   "metadata": {},
   "outputs": [
    {
     "name": "stdout",
     "output_type": "stream",
     "text": [
      "3        3625\n",
      "2        2136\n",
      "4         461\n",
      "1 Bed     119\n",
      "5          44\n",
      "7          10\n",
      "6           8\n",
      "21          2\n",
      "20          2\n",
      "17          1\n",
      "32          1\n",
      "22          1\n",
      "36          1\n",
      "Name: beds, dtype: int64\n"
     ]
    }
   ],
   "source": [
    "# Count the occurrences of each purpose\n",
    "beds_counts = df['beds'].value_counts()\n",
    "print(beds_counts)"
   ]
  },
  {
   "cell_type": "code",
   "execution_count": 28,
   "id": "9d83ac87",
   "metadata": {},
   "outputs": [
    {
     "name": "stdout",
     "output_type": "stream",
     "text": [
      "3     3625\n",
      "2     2136\n",
      "4      461\n",
      "1      119\n",
      "5       44\n",
      "7       10\n",
      "6        8\n",
      "21       2\n",
      "20       2\n",
      "17       1\n",
      "32       1\n",
      "22       1\n",
      "36       1\n",
      "Name: Beds, dtype: int64\n"
     ]
    },
    {
     "data": {
      "text/html": [
       "<div>\n",
       "<style scoped>\n",
       "    .dataframe tbody tr th:only-of-type {\n",
       "        vertical-align: middle;\n",
       "    }\n",
       "\n",
       "    .dataframe tbody tr th {\n",
       "        vertical-align: top;\n",
       "    }\n",
       "\n",
       "    .dataframe thead th {\n",
       "        text-align: right;\n",
       "    }\n",
       "</style>\n",
       "<table border=\"1\" class=\"dataframe\">\n",
       "  <thead>\n",
       "    <tr style=\"text-align: right;\">\n",
       "      <th></th>\n",
       "      <th>beds</th>\n",
       "      <th>bath</th>\n",
       "      <th>address</th>\n",
       "      <th>type</th>\n",
       "      <th>area_sqft</th>\n",
       "      <th>price</th>\n",
       "      <th>Beds</th>\n",
       "    </tr>\n",
       "  </thead>\n",
       "  <tbody>\n",
       "    <tr>\n",
       "      <th>0</th>\n",
       "      <td>3</td>\n",
       "      <td>4</td>\n",
       "      <td>Block A, Bashundhara R-A, Dhaka</td>\n",
       "      <td>Apartment</td>\n",
       "      <td>2200</td>\n",
       "      <td>50000.0</td>\n",
       "      <td>3</td>\n",
       "    </tr>\n",
       "    <tr>\n",
       "      <th>1</th>\n",
       "      <td>3</td>\n",
       "      <td>4</td>\n",
       "      <td>South Khulshi, Khulshi, Chattogram</td>\n",
       "      <td>Apartment</td>\n",
       "      <td>1400</td>\n",
       "      <td>30000.0</td>\n",
       "      <td>3</td>\n",
       "    </tr>\n",
       "    <tr>\n",
       "      <th>2</th>\n",
       "      <td>3</td>\n",
       "      <td>4</td>\n",
       "      <td>Block F, Bashundhara R-A, Dhaka</td>\n",
       "      <td>Apartment</td>\n",
       "      <td>1950</td>\n",
       "      <td>30000.0</td>\n",
       "      <td>3</td>\n",
       "    </tr>\n",
       "  </tbody>\n",
       "</table>\n",
       "</div>"
      ],
      "text/plain": [
       "  beds bath                             address       type  area_sqft  \\\n",
       "0   3    4      Block A, Bashundhara R-A, Dhaka  Apartment       2200   \n",
       "1   3    4   South Khulshi, Khulshi, Chattogram  Apartment       1400   \n",
       "2   3    4      Block F, Bashundhara R-A, Dhaka  Apartment       1950   \n",
       "\n",
       "     price Beds  \n",
       "0  50000.0    3  \n",
       "1  30000.0    3  \n",
       "2  30000.0    3  "
      ]
     },
     "execution_count": 28,
     "metadata": {},
     "output_type": "execute_result"
    }
   ],
   "source": [
    "df[\"Beds\"] = df[\"beds\"].apply(lambda x: x.split(\" \")[0])\n",
    "\n",
    "beds_counts = df['Beds'].value_counts()\n",
    "print(beds_counts)\n",
    "\n",
    "df.head(3)"
   ]
  },
  {
   "cell_type": "code",
   "execution_count": 29,
   "id": "3f61ed01",
   "metadata": {},
   "outputs": [
    {
     "name": "stdout",
     "output_type": "stream",
     "text": [
      "3     2530\n",
      "2     2520\n",
      "4      850\n",
      "1      361\n",
      "5      115\n",
      "6       14\n",
      "8       10\n",
      "10       8\n",
      "7        3\n",
      "Name: Bath, dtype: int64\n"
     ]
    },
    {
     "data": {
      "text/html": [
       "<div>\n",
       "<style scoped>\n",
       "    .dataframe tbody tr th:only-of-type {\n",
       "        vertical-align: middle;\n",
       "    }\n",
       "\n",
       "    .dataframe tbody tr th {\n",
       "        vertical-align: top;\n",
       "    }\n",
       "\n",
       "    .dataframe thead th {\n",
       "        text-align: right;\n",
       "    }\n",
       "</style>\n",
       "<table border=\"1\" class=\"dataframe\">\n",
       "  <thead>\n",
       "    <tr style=\"text-align: right;\">\n",
       "      <th></th>\n",
       "      <th>beds</th>\n",
       "      <th>bath</th>\n",
       "      <th>address</th>\n",
       "      <th>type</th>\n",
       "      <th>area_sqft</th>\n",
       "      <th>price</th>\n",
       "      <th>Beds</th>\n",
       "      <th>Bath</th>\n",
       "    </tr>\n",
       "  </thead>\n",
       "  <tbody>\n",
       "    <tr>\n",
       "      <th>0</th>\n",
       "      <td>3</td>\n",
       "      <td>4</td>\n",
       "      <td>Block A, Bashundhara R-A, Dhaka</td>\n",
       "      <td>Apartment</td>\n",
       "      <td>2200</td>\n",
       "      <td>50000.0</td>\n",
       "      <td>3</td>\n",
       "      <td>4</td>\n",
       "    </tr>\n",
       "    <tr>\n",
       "      <th>1</th>\n",
       "      <td>3</td>\n",
       "      <td>4</td>\n",
       "      <td>South Khulshi, Khulshi, Chattogram</td>\n",
       "      <td>Apartment</td>\n",
       "      <td>1400</td>\n",
       "      <td>30000.0</td>\n",
       "      <td>3</td>\n",
       "      <td>4</td>\n",
       "    </tr>\n",
       "    <tr>\n",
       "      <th>2</th>\n",
       "      <td>3</td>\n",
       "      <td>4</td>\n",
       "      <td>Block F, Bashundhara R-A, Dhaka</td>\n",
       "      <td>Apartment</td>\n",
       "      <td>1950</td>\n",
       "      <td>30000.0</td>\n",
       "      <td>3</td>\n",
       "      <td>4</td>\n",
       "    </tr>\n",
       "  </tbody>\n",
       "</table>\n",
       "</div>"
      ],
      "text/plain": [
       "  beds bath                             address       type  area_sqft  \\\n",
       "0   3    4      Block A, Bashundhara R-A, Dhaka  Apartment       2200   \n",
       "1   3    4   South Khulshi, Khulshi, Chattogram  Apartment       1400   \n",
       "2   3    4      Block F, Bashundhara R-A, Dhaka  Apartment       1950   \n",
       "\n",
       "     price Beds Bath  \n",
       "0  50000.0    3    4  \n",
       "1  30000.0    3    4  \n",
       "2  30000.0    3    4  "
      ]
     },
     "execution_count": 29,
     "metadata": {},
     "output_type": "execute_result"
    }
   ],
   "source": [
    "df[\"Bath\"] = df[\"bath\"].apply(lambda x: x.split(\" \")[0])\n",
    "\n",
    "baths_counts = df['Bath'].value_counts()\n",
    "print(baths_counts)\n",
    "\n",
    "df.head(3)"
   ]
  },
  {
   "cell_type": "code",
   "execution_count": 30,
   "id": "f75d64ef",
   "metadata": {},
   "outputs": [
    {
     "data": {
      "text/html": [
       "<div>\n",
       "<style scoped>\n",
       "    .dataframe tbody tr th:only-of-type {\n",
       "        vertical-align: middle;\n",
       "    }\n",
       "\n",
       "    .dataframe tbody tr th {\n",
       "        vertical-align: top;\n",
       "    }\n",
       "\n",
       "    .dataframe thead th {\n",
       "        text-align: right;\n",
       "    }\n",
       "</style>\n",
       "<table border=\"1\" class=\"dataframe\">\n",
       "  <thead>\n",
       "    <tr style=\"text-align: right;\">\n",
       "      <th></th>\n",
       "      <th>address</th>\n",
       "      <th>type</th>\n",
       "      <th>area_sqft</th>\n",
       "      <th>price</th>\n",
       "      <th>Beds</th>\n",
       "      <th>Bath</th>\n",
       "    </tr>\n",
       "  </thead>\n",
       "  <tbody>\n",
       "    <tr>\n",
       "      <th>0</th>\n",
       "      <td>Block A, Bashundhara R-A, Dhaka</td>\n",
       "      <td>Apartment</td>\n",
       "      <td>2200</td>\n",
       "      <td>50000.0</td>\n",
       "      <td>3</td>\n",
       "      <td>4</td>\n",
       "    </tr>\n",
       "    <tr>\n",
       "      <th>1</th>\n",
       "      <td>South Khulshi, Khulshi, Chattogram</td>\n",
       "      <td>Apartment</td>\n",
       "      <td>1400</td>\n",
       "      <td>30000.0</td>\n",
       "      <td>3</td>\n",
       "      <td>4</td>\n",
       "    </tr>\n",
       "  </tbody>\n",
       "</table>\n",
       "</div>"
      ],
      "text/plain": [
       "                              address       type  area_sqft    price Beds Bath\n",
       "0     Block A, Bashundhara R-A, Dhaka  Apartment       2200  50000.0    3    4\n",
       "1  South Khulshi, Khulshi, Chattogram  Apartment       1400  30000.0    3    4"
      ]
     },
     "execution_count": 30,
     "metadata": {},
     "output_type": "execute_result"
    }
   ],
   "source": [
    "# Drop columns\n",
    "df.drop(['beds', 'bath'], axis=1, inplace=True)\n",
    "df.head(2)"
   ]
  },
  {
   "cell_type": "code",
   "execution_count": 31,
   "id": "16e605bb",
   "metadata": {},
   "outputs": [
    {
     "data": {
      "text/html": [
       "<div>\n",
       "<style scoped>\n",
       "    .dataframe tbody tr th:only-of-type {\n",
       "        vertical-align: middle;\n",
       "    }\n",
       "\n",
       "    .dataframe tbody tr th {\n",
       "        vertical-align: top;\n",
       "    }\n",
       "\n",
       "    .dataframe thead th {\n",
       "        text-align: right;\n",
       "    }\n",
       "</style>\n",
       "<table border=\"1\" class=\"dataframe\">\n",
       "  <thead>\n",
       "    <tr style=\"text-align: right;\">\n",
       "      <th></th>\n",
       "      <th>address</th>\n",
       "      <th>type</th>\n",
       "      <th>area_sqft</th>\n",
       "      <th>price</th>\n",
       "      <th>beds</th>\n",
       "      <th>bath</th>\n",
       "    </tr>\n",
       "  </thead>\n",
       "  <tbody>\n",
       "    <tr>\n",
       "      <th>0</th>\n",
       "      <td>Block A, Bashundhara R-A, Dhaka</td>\n",
       "      <td>Apartment</td>\n",
       "      <td>2200</td>\n",
       "      <td>50000</td>\n",
       "      <td>3</td>\n",
       "      <td>4</td>\n",
       "    </tr>\n",
       "    <tr>\n",
       "      <th>1</th>\n",
       "      <td>South Khulshi, Khulshi, Chattogram</td>\n",
       "      <td>Apartment</td>\n",
       "      <td>1400</td>\n",
       "      <td>30000</td>\n",
       "      <td>3</td>\n",
       "      <td>4</td>\n",
       "    </tr>\n",
       "    <tr>\n",
       "      <th>2</th>\n",
       "      <td>Block F, Bashundhara R-A, Dhaka</td>\n",
       "      <td>Apartment</td>\n",
       "      <td>1950</td>\n",
       "      <td>30000</td>\n",
       "      <td>3</td>\n",
       "      <td>4</td>\n",
       "    </tr>\n",
       "  </tbody>\n",
       "</table>\n",
       "</div>"
      ],
      "text/plain": [
       "                              address       type  area_sqft  price beds bath\n",
       "0     Block A, Bashundhara R-A, Dhaka  Apartment       2200  50000    3    4\n",
       "1  South Khulshi, Khulshi, Chattogram  Apartment       1400  30000    3    4\n",
       "2     Block F, Bashundhara R-A, Dhaka  Apartment       1950  30000    3    4"
      ]
     },
     "execution_count": 31,
     "metadata": {},
     "output_type": "execute_result"
    }
   ],
   "source": [
    "# Replace column names\n",
    "df.rename(columns={'Beds': 'beds', 'Bath': 'bath'}, inplace=True)\n",
    "# Convert \"price\" column to integer data type\n",
    "df['price'] = df['price'].astype(int)\n",
    "\n",
    "df.head(3)"
   ]
  },
  {
   "cell_type": "code",
   "execution_count": null,
   "id": "0a5e7d0c",
   "metadata": {},
   "outputs": [],
   "source": []
  },
  {
   "cell_type": "markdown",
   "id": "398a5a04",
   "metadata": {},
   "source": [
    "Extract specific location from the address column:"
   ]
  },
  {
   "cell_type": "code",
   "execution_count": 63,
   "id": "7daf27c1",
   "metadata": {},
   "outputs": [
    {
     "ename": "KeyError",
     "evalue": "'address'",
     "output_type": "error",
     "traceback": [
      "\u001b[1;31m---------------------------------------------------------------------------\u001b[0m",
      "\u001b[1;31mKeyError\u001b[0m                                  Traceback (most recent call last)",
      "File \u001b[1;32m~\\anaconda3\\Lib\\site-packages\\pandas\\core\\indexes\\base.py:3802\u001b[0m, in \u001b[0;36mIndex.get_loc\u001b[1;34m(self, key, method, tolerance)\u001b[0m\n\u001b[0;32m   3801\u001b[0m \u001b[38;5;28;01mtry\u001b[39;00m:\n\u001b[1;32m-> 3802\u001b[0m     \u001b[38;5;28;01mreturn\u001b[39;00m \u001b[38;5;28mself\u001b[39m\u001b[38;5;241m.\u001b[39m_engine\u001b[38;5;241m.\u001b[39mget_loc(casted_key)\n\u001b[0;32m   3803\u001b[0m \u001b[38;5;28;01mexcept\u001b[39;00m \u001b[38;5;167;01mKeyError\u001b[39;00m \u001b[38;5;28;01mas\u001b[39;00m err:\n",
      "File \u001b[1;32m~\\anaconda3\\Lib\\site-packages\\pandas\\_libs\\index.pyx:138\u001b[0m, in \u001b[0;36mpandas._libs.index.IndexEngine.get_loc\u001b[1;34m()\u001b[0m\n",
      "File \u001b[1;32m~\\anaconda3\\Lib\\site-packages\\pandas\\_libs\\index.pyx:165\u001b[0m, in \u001b[0;36mpandas._libs.index.IndexEngine.get_loc\u001b[1;34m()\u001b[0m\n",
      "File \u001b[1;32mpandas\\_libs\\hashtable_class_helper.pxi:5745\u001b[0m, in \u001b[0;36mpandas._libs.hashtable.PyObjectHashTable.get_item\u001b[1;34m()\u001b[0m\n",
      "File \u001b[1;32mpandas\\_libs\\hashtable_class_helper.pxi:5753\u001b[0m, in \u001b[0;36mpandas._libs.hashtable.PyObjectHashTable.get_item\u001b[1;34m()\u001b[0m\n",
      "\u001b[1;31mKeyError\u001b[0m: 'address'",
      "\nThe above exception was the direct cause of the following exception:\n",
      "\u001b[1;31mKeyError\u001b[0m                                  Traceback (most recent call last)",
      "Cell \u001b[1;32mIn[63], line 1\u001b[0m\n\u001b[1;32m----> 1\u001b[0m df[\u001b[38;5;124m\"\u001b[39m\u001b[38;5;124mcity\u001b[39m\u001b[38;5;124m\"\u001b[39m] \u001b[38;5;241m=\u001b[39m df[\u001b[38;5;124m'\u001b[39m\u001b[38;5;124maddress\u001b[39m\u001b[38;5;124m'\u001b[39m]\u001b[38;5;241m.\u001b[39mapply(\u001b[38;5;28;01mlambda\u001b[39;00m x: x\u001b[38;5;241m.\u001b[39msplit(\u001b[38;5;124m\"\u001b[39m\u001b[38;5;124m \u001b[39m\u001b[38;5;124m\"\u001b[39m)[\u001b[38;5;241m-\u001b[39m\u001b[38;5;241m1\u001b[39m])\n\u001b[0;32m      2\u001b[0m df\u001b[38;5;241m.\u001b[39mhead(\u001b[38;5;241m2\u001b[39m)\n",
      "File \u001b[1;32m~\\anaconda3\\Lib\\site-packages\\pandas\\core\\frame.py:3807\u001b[0m, in \u001b[0;36mDataFrame.__getitem__\u001b[1;34m(self, key)\u001b[0m\n\u001b[0;32m   3805\u001b[0m \u001b[38;5;28;01mif\u001b[39;00m \u001b[38;5;28mself\u001b[39m\u001b[38;5;241m.\u001b[39mcolumns\u001b[38;5;241m.\u001b[39mnlevels \u001b[38;5;241m>\u001b[39m \u001b[38;5;241m1\u001b[39m:\n\u001b[0;32m   3806\u001b[0m     \u001b[38;5;28;01mreturn\u001b[39;00m \u001b[38;5;28mself\u001b[39m\u001b[38;5;241m.\u001b[39m_getitem_multilevel(key)\n\u001b[1;32m-> 3807\u001b[0m indexer \u001b[38;5;241m=\u001b[39m \u001b[38;5;28mself\u001b[39m\u001b[38;5;241m.\u001b[39mcolumns\u001b[38;5;241m.\u001b[39mget_loc(key)\n\u001b[0;32m   3808\u001b[0m \u001b[38;5;28;01mif\u001b[39;00m is_integer(indexer):\n\u001b[0;32m   3809\u001b[0m     indexer \u001b[38;5;241m=\u001b[39m [indexer]\n",
      "File \u001b[1;32m~\\anaconda3\\Lib\\site-packages\\pandas\\core\\indexes\\base.py:3804\u001b[0m, in \u001b[0;36mIndex.get_loc\u001b[1;34m(self, key, method, tolerance)\u001b[0m\n\u001b[0;32m   3802\u001b[0m     \u001b[38;5;28;01mreturn\u001b[39;00m \u001b[38;5;28mself\u001b[39m\u001b[38;5;241m.\u001b[39m_engine\u001b[38;5;241m.\u001b[39mget_loc(casted_key)\n\u001b[0;32m   3803\u001b[0m \u001b[38;5;28;01mexcept\u001b[39;00m \u001b[38;5;167;01mKeyError\u001b[39;00m \u001b[38;5;28;01mas\u001b[39;00m err:\n\u001b[1;32m-> 3804\u001b[0m     \u001b[38;5;28;01mraise\u001b[39;00m \u001b[38;5;167;01mKeyError\u001b[39;00m(key) \u001b[38;5;28;01mfrom\u001b[39;00m \u001b[38;5;21;01merr\u001b[39;00m\n\u001b[0;32m   3805\u001b[0m \u001b[38;5;28;01mexcept\u001b[39;00m \u001b[38;5;167;01mTypeError\u001b[39;00m:\n\u001b[0;32m   3806\u001b[0m     \u001b[38;5;66;03m# If we have a listlike key, _check_indexing_error will raise\u001b[39;00m\n\u001b[0;32m   3807\u001b[0m     \u001b[38;5;66;03m#  InvalidIndexError. Otherwise we fall through and re-raise\u001b[39;00m\n\u001b[0;32m   3808\u001b[0m     \u001b[38;5;66;03m#  the TypeError.\u001b[39;00m\n\u001b[0;32m   3809\u001b[0m     \u001b[38;5;28mself\u001b[39m\u001b[38;5;241m.\u001b[39m_check_indexing_error(key)\n",
      "\u001b[1;31mKeyError\u001b[0m: 'address'"
     ]
    }
   ],
   "source": [
    "df[\"city\"] = df['address'].apply(lambda x: x.split(\" \")[-1])\n",
    "df.head(2)"
   ]
  },
  {
   "cell_type": "code",
   "execution_count": 34,
   "id": "f1130b76",
   "metadata": {},
   "outputs": [
    {
     "data": {
      "text/plain": [
       "Dhaka         4443\n",
       "Chattogram    1968\n",
       "Name: city, dtype: int64"
      ]
     },
     "execution_count": 34,
     "metadata": {},
     "output_type": "execute_result"
    }
   ],
   "source": [
    "df[\"city\"].value_counts()"
   ]
  },
  {
   "cell_type": "code",
   "execution_count": null,
   "id": "49ec162f",
   "metadata": {},
   "outputs": [],
   "source": []
  },
  {
   "cell_type": "code",
   "execution_count": 62,
   "id": "d9ac59fd",
   "metadata": {},
   "outputs": [
    {
     "ename": "KeyError",
     "evalue": "'address'",
     "output_type": "error",
     "traceback": [
      "\u001b[1;31m---------------------------------------------------------------------------\u001b[0m",
      "\u001b[1;31mKeyError\u001b[0m                                  Traceback (most recent call last)",
      "File \u001b[1;32m~\\anaconda3\\Lib\\site-packages\\pandas\\core\\indexes\\base.py:3802\u001b[0m, in \u001b[0;36mIndex.get_loc\u001b[1;34m(self, key, method, tolerance)\u001b[0m\n\u001b[0;32m   3801\u001b[0m \u001b[38;5;28;01mtry\u001b[39;00m:\n\u001b[1;32m-> 3802\u001b[0m     \u001b[38;5;28;01mreturn\u001b[39;00m \u001b[38;5;28mself\u001b[39m\u001b[38;5;241m.\u001b[39m_engine\u001b[38;5;241m.\u001b[39mget_loc(casted_key)\n\u001b[0;32m   3803\u001b[0m \u001b[38;5;28;01mexcept\u001b[39;00m \u001b[38;5;167;01mKeyError\u001b[39;00m \u001b[38;5;28;01mas\u001b[39;00m err:\n",
      "File \u001b[1;32m~\\anaconda3\\Lib\\site-packages\\pandas\\_libs\\index.pyx:138\u001b[0m, in \u001b[0;36mpandas._libs.index.IndexEngine.get_loc\u001b[1;34m()\u001b[0m\n",
      "File \u001b[1;32m~\\anaconda3\\Lib\\site-packages\\pandas\\_libs\\index.pyx:165\u001b[0m, in \u001b[0;36mpandas._libs.index.IndexEngine.get_loc\u001b[1;34m()\u001b[0m\n",
      "File \u001b[1;32mpandas\\_libs\\hashtable_class_helper.pxi:5745\u001b[0m, in \u001b[0;36mpandas._libs.hashtable.PyObjectHashTable.get_item\u001b[1;34m()\u001b[0m\n",
      "File \u001b[1;32mpandas\\_libs\\hashtable_class_helper.pxi:5753\u001b[0m, in \u001b[0;36mpandas._libs.hashtable.PyObjectHashTable.get_item\u001b[1;34m()\u001b[0m\n",
      "\u001b[1;31mKeyError\u001b[0m: 'address'",
      "\nThe above exception was the direct cause of the following exception:\n",
      "\u001b[1;31mKeyError\u001b[0m                                  Traceback (most recent call last)",
      "Cell \u001b[1;32mIn[62], line 7\u001b[0m\n\u001b[0;32m      5\u001b[0m     \u001b[38;5;28;01melse\u001b[39;00m:\n\u001b[0;32m      6\u001b[0m         \u001b[38;5;28;01mreturn\u001b[39;00m \u001b[38;5;124m'\u001b[39m\u001b[38;5;124m'\u001b[39m\n\u001b[1;32m----> 7\u001b[0m df[\u001b[38;5;124m'\u001b[39m\u001b[38;5;124mCITY\u001b[39m\u001b[38;5;124m'\u001b[39m] \u001b[38;5;241m=\u001b[39m df[\u001b[38;5;124m'\u001b[39m\u001b[38;5;124maddress\u001b[39m\u001b[38;5;124m'\u001b[39m]\u001b[38;5;241m.\u001b[39mapply(extract_city)\n\u001b[0;32m      8\u001b[0m df\u001b[38;5;241m.\u001b[39mhead(\u001b[38;5;241m3\u001b[39m)\n",
      "File \u001b[1;32m~\\anaconda3\\Lib\\site-packages\\pandas\\core\\frame.py:3807\u001b[0m, in \u001b[0;36mDataFrame.__getitem__\u001b[1;34m(self, key)\u001b[0m\n\u001b[0;32m   3805\u001b[0m \u001b[38;5;28;01mif\u001b[39;00m \u001b[38;5;28mself\u001b[39m\u001b[38;5;241m.\u001b[39mcolumns\u001b[38;5;241m.\u001b[39mnlevels \u001b[38;5;241m>\u001b[39m \u001b[38;5;241m1\u001b[39m:\n\u001b[0;32m   3806\u001b[0m     \u001b[38;5;28;01mreturn\u001b[39;00m \u001b[38;5;28mself\u001b[39m\u001b[38;5;241m.\u001b[39m_getitem_multilevel(key)\n\u001b[1;32m-> 3807\u001b[0m indexer \u001b[38;5;241m=\u001b[39m \u001b[38;5;28mself\u001b[39m\u001b[38;5;241m.\u001b[39mcolumns\u001b[38;5;241m.\u001b[39mget_loc(key)\n\u001b[0;32m   3808\u001b[0m \u001b[38;5;28;01mif\u001b[39;00m is_integer(indexer):\n\u001b[0;32m   3809\u001b[0m     indexer \u001b[38;5;241m=\u001b[39m [indexer]\n",
      "File \u001b[1;32m~\\anaconda3\\Lib\\site-packages\\pandas\\core\\indexes\\base.py:3804\u001b[0m, in \u001b[0;36mIndex.get_loc\u001b[1;34m(self, key, method, tolerance)\u001b[0m\n\u001b[0;32m   3802\u001b[0m     \u001b[38;5;28;01mreturn\u001b[39;00m \u001b[38;5;28mself\u001b[39m\u001b[38;5;241m.\u001b[39m_engine\u001b[38;5;241m.\u001b[39mget_loc(casted_key)\n\u001b[0;32m   3803\u001b[0m \u001b[38;5;28;01mexcept\u001b[39;00m \u001b[38;5;167;01mKeyError\u001b[39;00m \u001b[38;5;28;01mas\u001b[39;00m err:\n\u001b[1;32m-> 3804\u001b[0m     \u001b[38;5;28;01mraise\u001b[39;00m \u001b[38;5;167;01mKeyError\u001b[39;00m(key) \u001b[38;5;28;01mfrom\u001b[39;00m \u001b[38;5;21;01merr\u001b[39;00m\n\u001b[0;32m   3805\u001b[0m \u001b[38;5;28;01mexcept\u001b[39;00m \u001b[38;5;167;01mTypeError\u001b[39;00m:\n\u001b[0;32m   3806\u001b[0m     \u001b[38;5;66;03m# If we have a listlike key, _check_indexing_error will raise\u001b[39;00m\n\u001b[0;32m   3807\u001b[0m     \u001b[38;5;66;03m#  InvalidIndexError. Otherwise we fall through and re-raise\u001b[39;00m\n\u001b[0;32m   3808\u001b[0m     \u001b[38;5;66;03m#  the TypeError.\u001b[39;00m\n\u001b[0;32m   3809\u001b[0m     \u001b[38;5;28mself\u001b[39m\u001b[38;5;241m.\u001b[39m_check_indexing_error(key)\n",
      "\u001b[1;31mKeyError\u001b[0m: 'address'"
     ]
    }
   ],
   "source": [
    "def extract_city(address):\n",
    "    parts = address.split(', ')\n",
    "    if len(parts) >= 2:\n",
    "        return parts[1]\n",
    "    else:\n",
    "        return ''\n",
    "df['CITY'] = df['address'].apply(extract_city)\n",
    "df.head(3)"
   ]
  },
  {
   "cell_type": "code",
   "execution_count": 64,
   "id": "13e7daae",
   "metadata": {},
   "outputs": [
    {
     "data": {
      "text/plain": [
       "type         0\n",
       "area_sqft    0\n",
       "price        0\n",
       "beds         0\n",
       "bath         0\n",
       "city         0\n",
       "area         0\n",
       "dtype: int64"
      ]
     },
     "execution_count": 64,
     "metadata": {},
     "output_type": "execute_result"
    }
   ],
   "source": [
    "# Drop columns\n",
    "df.drop(['address', 'area', area2], axis=1, inplace=True)\n",
    "# Replace column names\n",
    "df.rename(columns={'CITY': 'area'}, inplace=True)\n",
    "df.head(2)"
   ]
  },
  {
   "cell_type": "code",
   "execution_count": 65,
   "id": "14ee3ad9",
   "metadata": {},
   "outputs": [
    {
     "data": {
      "text/html": [
       "<div>\n",
       "<style scoped>\n",
       "    .dataframe tbody tr th:only-of-type {\n",
       "        vertical-align: middle;\n",
       "    }\n",
       "\n",
       "    .dataframe tbody tr th {\n",
       "        vertical-align: top;\n",
       "    }\n",
       "\n",
       "    .dataframe thead th {\n",
       "        text-align: right;\n",
       "    }\n",
       "</style>\n",
       "<table border=\"1\" class=\"dataframe\">\n",
       "  <thead>\n",
       "    <tr style=\"text-align: right;\">\n",
       "      <th></th>\n",
       "      <th>type</th>\n",
       "      <th>area_sqft</th>\n",
       "      <th>price</th>\n",
       "      <th>beds</th>\n",
       "      <th>bath</th>\n",
       "      <th>city</th>\n",
       "      <th>area</th>\n",
       "    </tr>\n",
       "  </thead>\n",
       "  <tbody>\n",
       "    <tr>\n",
       "      <th>0</th>\n",
       "      <td>Apartment</td>\n",
       "      <td>2200</td>\n",
       "      <td>50000</td>\n",
       "      <td>3</td>\n",
       "      <td>4</td>\n",
       "      <td>Dhaka</td>\n",
       "      <td>Bashundhara R-A</td>\n",
       "    </tr>\n",
       "    <tr>\n",
       "      <th>1</th>\n",
       "      <td>Apartment</td>\n",
       "      <td>1400</td>\n",
       "      <td>30000</td>\n",
       "      <td>3</td>\n",
       "      <td>4</td>\n",
       "      <td>Chattogram</td>\n",
       "      <td>Khulshi</td>\n",
       "    </tr>\n",
       "    <tr>\n",
       "      <th>2</th>\n",
       "      <td>Apartment</td>\n",
       "      <td>1950</td>\n",
       "      <td>30000</td>\n",
       "      <td>3</td>\n",
       "      <td>4</td>\n",
       "      <td>Dhaka</td>\n",
       "      <td>Bashundhara R-A</td>\n",
       "    </tr>\n",
       "  </tbody>\n",
       "</table>\n",
       "</div>"
      ],
      "text/plain": [
       "        type  area_sqft  price beds bath        city             area\n",
       "0  Apartment       2200  50000    3    4       Dhaka  Bashundhara R-A\n",
       "1  Apartment       1400  30000    3    4  Chattogram          Khulshi\n",
       "2  Apartment       1950  30000    3    4       Dhaka  Bashundhara R-A"
      ]
     },
     "execution_count": 65,
     "metadata": {},
     "output_type": "execute_result"
    }
   ],
   "source": [
    "df.head(3)"
   ]
  },
  {
   "cell_type": "markdown",
   "id": "4be02c94",
   "metadata": {},
   "source": [
    "# Save the DataFrame to a csv file"
   ]
  },
  {
   "cell_type": "code",
   "execution_count": 66,
   "id": "93a5ab06",
   "metadata": {},
   "outputs": [],
   "source": [
    "df.to_csv('preprocessed_property_listing_data_in_Bangladesh.csv', index=False)"
   ]
  },
  {
   "cell_type": "code",
   "execution_count": null,
   "id": "16b5cbda",
   "metadata": {},
   "outputs": [],
   "source": []
  },
  {
   "cell_type": "markdown",
   "id": "6ecfd1ed",
   "metadata": {},
   "source": [
    "# Data Analysis"
   ]
  },
  {
   "cell_type": "code",
   "execution_count": 67,
   "id": "127c6d26",
   "metadata": {},
   "outputs": [
    {
     "name": "stdout",
     "output_type": "stream",
     "text": [
      "<class 'pandas.core.frame.DataFrame'>\n",
      "Int64Index: 6411 entries, 0 to 7556\n",
      "Data columns (total 7 columns):\n",
      " #   Column     Non-Null Count  Dtype \n",
      "---  ------     --------------  ----- \n",
      " 0   type       6411 non-null   object\n",
      " 1   area_sqft  6411 non-null   int64 \n",
      " 2   price      6411 non-null   int32 \n",
      " 3   beds       6411 non-null   object\n",
      " 4   bath       6411 non-null   object\n",
      " 5   city       6411 non-null   object\n",
      " 6   area       6411 non-null   object\n",
      "dtypes: int32(1), int64(1), object(5)\n",
      "memory usage: 375.6+ KB\n",
      "None\n",
      "          area_sqft         price\n",
      "count   6411.000000  6.411000e+03\n",
      "mean    1382.981438  3.516994e+04\n",
      "std     1006.895680  6.804815e+04\n",
      "min      300.000000  5.500000e+03\n",
      "25%      900.000000  1.500000e+04\n",
      "50%     1200.000000  2.000000e+04\n",
      "75%     1550.000000  3.000000e+04\n",
      "max    31500.000000  2.000000e+06\n"
     ]
    }
   ],
   "source": [
    "print(df.info())\n",
    "print(df.describe())"
   ]
  },
  {
   "cell_type": "markdown",
   "id": "25487a79",
   "metadata": {},
   "source": [
    "# Types of House for rent"
   ]
  },
  {
   "cell_type": "code",
   "execution_count": 68,
   "id": "8f314758",
   "metadata": {},
   "outputs": [
    {
     "name": "stdout",
     "output_type": "stream",
     "text": [
      "Apartment    6344\n",
      "Duplex         46\n",
      "Building       21\n",
      "Name: type, dtype: int64\n"
     ]
    },
    {
     "data": {
      "image/png": "[encoded data removed]",
      "text/plain": [
       "<Figure size 400x400 with 1 Axes>"
      ]
     },
     "metadata": {},
     "output_type": "display_data"
    }
   ],
   "source": [
    "# Count the occurrences of each type\n",
    "type_counts = df['type'].value_counts()\n",
    "print(type_counts)\n",
    "\n",
    "# Calculate the total count\n",
    "total_count = type_counts.sum()\n",
    "\n",
    "# Define a custom color palette\n",
    "colors = sns.color_palette('Set2', n_colors=len(type_counts))\n",
    "\n",
    "fig = plt.figure(figsize=(4, 4))\n",
    "\n",
    "# Plot the bar chart with different colors\n",
    "plt.bar(type_counts.index, type_counts.values, color=colors)\n",
    "\n",
    "# Add labels and title\n",
    "plt.xlabel('Type')\n",
    "plt.ylabel('Count')\n",
    "plt.title('Distribution of Types')\n",
    "\n",
    "# Add legend\n",
    "legend_labels = type_counts.index\n",
    "plt.legend(legend_labels)\n",
    "\n",
    "# Add percentage values on top of each bar\n",
    "for i, count in enumerate(type_counts.values):\n",
    "    percentage = (count / total_count) * 100\n",
    "    plt.text(i, count + 10, f'{percentage:.1f}%', ha='center')\n",
    "\n",
    "# Display the plot\n",
    "plt.show()"
   ]
  },
  {
   "cell_type": "code",
   "execution_count": null,
   "id": "a5fcb084",
   "metadata": {},
   "outputs": [],
   "source": []
  },
  {
   "cell_type": "markdown",
   "id": "8109a7ce",
   "metadata": {},
   "source": [
    "# Types of House for rent"
   ]
  },
  {
   "cell_type": "code",
   "execution_count": 70,
   "id": "62d4897f",
   "metadata": {},
   "outputs": [
    {
     "data": {
      "text/plain": [
       "Apartment    6344\n",
       "Duplex         46\n",
       "Building       21\n",
       "Name: type, dtype: int64"
      ]
     },
     "execution_count": 70,
     "metadata": {},
     "output_type": "execute_result"
    }
   ],
   "source": [
    "h_type = df['type'].value_counts()\n",
    "h_type"
   ]
  },
  {
   "cell_type": "code",
   "execution_count": 80,
   "id": "910744bb",
   "metadata": {},
   "outputs": [
    {
     "data": {
      "image/png": "[encoded data removed]",
      "text/plain": [
       "<Figure size 900x500 with 1 Axes>"
      ]
     },
     "metadata": {},
     "output_type": "display_data"
    }
   ],
   "source": [
    "sns.set()\n",
    "plt.figure(figsize=(9,5))\n",
    "sns.countplot(x = df[\"type\"], data = df)\n",
    "\n",
    "for i in range(h_type.shape[0]):\n",
    "    num = h_type.values[i]\n",
    "    text = \"{:0.2f}%\".format(100*(num/df.shape[0]))\n",
    "    plt.text(i,num+100, text, ha= \"center\", color = \"k\",fontsize=14)"
   ]
  },
  {
   "cell_type": "markdown",
   "id": "37ca814f",
   "metadata": {},
   "source": [
    "From here, we can see that 98.95% houses are Apartment and a small portion of the houses are Duplex and Building"
   ]
  },
  {
   "cell_type": "markdown",
   "id": "635b39d0",
   "metadata": {},
   "source": [
    "# Average price according to apartment type"
   ]
  },
  {
   "cell_type": "code",
   "execution_count": 75,
   "id": "219fa1d6",
   "metadata": {},
   "outputs": [
    {
     "data": {
      "text/plain": [
       "type\n",
       "Apartment     31637.214849\n",
       "Building     666666.666667\n",
       "Duplex       234086.956522\n",
       "Name: price, dtype: float64"
      ]
     },
     "execution_count": 75,
     "metadata": {},
     "output_type": "execute_result"
    }
   ],
   "source": [
    "df.groupby(df['type'])[\"price\"].mean()"
   ]
  },
  {
   "cell_type": "code",
   "execution_count": 77,
   "id": "546559ab",
   "metadata": {},
   "outputs": [
    {
     "data": {
      "image/png": "[encoded data removed]",
      "text/plain": [
       "<Figure size 1000x800 with 1 Axes>"
      ]
     },
     "metadata": {},
     "output_type": "display_data"
    }
   ],
   "source": [
    "color = colors\n",
    "plt.rcParams[\"figure.figsize\"] = (10,8)\n",
    "labels = list(df['type'].value_counts().keys())\n",
    "df['type'].value_counts().plot.pie(y=\"type\",startangle=70, colors = color, explode = (0,0.1,0.2), shadow = True, autopct = \"%0.1f%%\")\n",
    "plt.title(\"Percentage  of property type\")\n",
    "plt.legend(labels,loc = \"upper left\")\n",
    "plt.axis(\"off\")\n",
    "plt.show()"
   ]
  },
  {
   "cell_type": "markdown",
   "id": "2a127fdb",
   "metadata": {},
   "source": [
    "So, the average price of apartment is `31637`\n",
    "Building: `666666`\n",
    "Duplex: `234086`\n",
    "\n",
    "No wonder the percentage of apartment is `98.95%`, because they are way more `cheaper` than building and duplex."
   ]
  },
  {
   "cell_type": "markdown",
   "id": "f8558297",
   "metadata": {},
   "source": [
    "# Area VS Price"
   ]
  },
  {
   "cell_type": "code",
   "execution_count": 84,
   "id": "a9d90ab9",
   "metadata": {},
   "outputs": [
    {
     "data": {
      "image/png": "[encoded data removed]",
      "text/plain": [
       "<Figure size 1000x600 with 1 Axes>"
      ]
     },
     "metadata": {},
     "output_type": "display_data"
    }
   ],
   "source": [
    "plt.figure(figsize = (10,6))\n",
    "plt.style.use(\"ggplot\")\n",
    "sns.lineplot(x=df[\"area_sqft\"], y = df[\"price\"])\n",
    "plt.title(\"Area vs Price\")\n",
    "plt.xlabel(\"Area in Square Feet\")\n",
    "plt.ylabel(\"Price\")\n",
    "plt.show()"
   ]
  },
  {
   "cell_type": "markdown",
   "id": "7da8e4e4",
   "metadata": {},
   "source": [
    "As area of the property increases the price is also increases along with it."
   ]
  },
  {
   "cell_type": "code",
   "execution_count": 85,
   "id": "2b1c771c",
   "metadata": {},
   "outputs": [
    {
     "data": {
      "image/png": "[encoded data removed]",
      "text/plain": [
       "<Figure size 1000x600 with 1 Axes>"
      ]
     },
     "metadata": {},
     "output_type": "display_data"
    }
   ],
   "source": [
    "# Creating a scatter plot\n",
    "fig = plt.figure(figsize=(10, 6))\n",
    "sns.scatterplot(data=df, x='area_sqft', y='price')\n",
    "\n",
    "# Adding a regression line to show how the price is rising\n",
    "sns.regplot(data=df, x='area_sqft', y='price', scatter=False)\n",
    "\n",
    "# Adding labels and title to the plot\n",
    "plt.xlabel('Area (sqft)')\n",
    "plt.ylabel('Price')\n",
    "plt.title('Area (sqft) vs Price')\n",
    "\n",
    "# Displaying the plot\n",
    "plt.show()"
   ]
  },
  {
   "cell_type": "code",
   "execution_count": 89,
   "id": "bfcbc38a",
   "metadata": {},
   "outputs": [
    {
     "data": {
      "text/html": [
       "<div>\n",
       "<style scoped>\n",
       "    .dataframe tbody tr th:only-of-type {\n",
       "        vertical-align: middle;\n",
       "    }\n",
       "\n",
       "    .dataframe tbody tr th {\n",
       "        vertical-align: top;\n",
       "    }\n",
       "\n",
       "    .dataframe thead th {\n",
       "        text-align: right;\n",
       "    }\n",
       "</style>\n",
       "<table border=\"1\" class=\"dataframe\">\n",
       "  <thead>\n",
       "    <tr style=\"text-align: right;\">\n",
       "      <th></th>\n",
       "      <th>city</th>\n",
       "      <th>type</th>\n",
       "      <th>price</th>\n",
       "    </tr>\n",
       "  </thead>\n",
       "  <tbody>\n",
       "    <tr>\n",
       "      <th>0</th>\n",
       "      <td>Chattogram</td>\n",
       "      <td>Apartment</td>\n",
       "      <td>19542.887755</td>\n",
       "    </tr>\n",
       "    <tr>\n",
       "      <th>1</th>\n",
       "      <td>Chattogram</td>\n",
       "      <td>Building</td>\n",
       "      <td>70000.000000</td>\n",
       "    </tr>\n",
       "    <tr>\n",
       "      <th>2</th>\n",
       "      <td>Chattogram</td>\n",
       "      <td>Duplex</td>\n",
       "      <td>105714.285714</td>\n",
       "    </tr>\n",
       "    <tr>\n",
       "      <th>3</th>\n",
       "      <td>Dhaka</td>\n",
       "      <td>Apartment</td>\n",
       "      <td>37044.350137</td>\n",
       "    </tr>\n",
       "    <tr>\n",
       "      <th>4</th>\n",
       "      <td>Dhaka</td>\n",
       "      <td>Building</td>\n",
       "      <td>696500.000000</td>\n",
       "    </tr>\n",
       "    <tr>\n",
       "      <th>5</th>\n",
       "      <td>Dhaka</td>\n",
       "      <td>Duplex</td>\n",
       "      <td>257128.205128</td>\n",
       "    </tr>\n",
       "  </tbody>\n",
       "</table>\n",
       "</div>"
      ],
      "text/plain": [
       "         city       type          price\n",
       "0  Chattogram  Apartment   19542.887755\n",
       "1  Chattogram   Building   70000.000000\n",
       "2  Chattogram     Duplex  105714.285714\n",
       "3       Dhaka  Apartment   37044.350137\n",
       "4       Dhaka   Building  696500.000000\n",
       "5       Dhaka     Duplex  257128.205128"
      ]
     },
     "execution_count": 89,
     "metadata": {},
     "output_type": "execute_result"
    }
   ],
   "source": [
    "# groupby apartment type according to location:\n",
    "\n",
    "\n",
    "a = df.groupby([\"city\",\"type\"])[\"price\"].mean()\n",
    "a = a.to_frame()\n",
    "a = a.reset_index(level=[\"city\",\"type\"])\n",
    "a"
   ]
  },
  {
   "cell_type": "code",
   "execution_count": 90,
   "id": "dac7e465",
   "metadata": {},
   "outputs": [
    {
     "data": {
      "image/png": "[encoded data removed]",
      "text/plain": [
       "<Figure size 1000x500 with 2 Axes>"
      ]
     },
     "metadata": {},
     "output_type": "display_data"
    }
   ],
   "source": [
    "plt.rcParams['figure.figsize'] = (9,8)\n",
    "sns.catplot(x = \"type\", y = \"price\", col = \"city\", hue = \"type\",\n",
    "            data = a, kind = \"bar\")\n",
    "plt.suptitle(\"Dhaka vs Chittagong Price\")\n",
    "plt.tight_layout()\n",
    "plt.show()"
   ]
  },
  {
   "cell_type": "markdown",
   "id": "61779f29",
   "metadata": {},
   "source": [
    "We can see that, the average price difference between Dhaka and Chittagong is very high. `Dhaka` is way more `expensive` than `Chittagong`."
   ]
  },
  {
   "cell_type": "markdown",
   "id": "9c7c320c",
   "metadata": {},
   "source": [
    "# Dhaka vs Chittagong Price Heatmap"
   ]
  },
  {
   "cell_type": "code",
   "execution_count": 100,
   "id": "e22c8d7f",
   "metadata": {},
   "outputs": [
    {
     "data": {
      "image/png": "[encoded data removed]",
      "text/plain": [
       "<Figure size 600x600 with 2 Axes>"
      ]
     },
     "metadata": {},
     "output_type": "display_data"
    }
   ],
   "source": [
    "# Set the figure size\n",
    "plt.figure(figsize=(6, 6))\n",
    "\n",
    "# Create the pivot table\n",
    "pivot_table = df.pivot_table(values='price', index='type', columns='city')\n",
    "\n",
    "# Create the heatmap\n",
    "sns.heatmap(pivot_table, annot=True, fmt=\".2f\", cmap=colors, linewidths=0.5, linecolor='white', cbar=True,\n",
    "            cbar_kws={'label': 'Price'})\n",
    "\n",
    "# Customize the axis labels\n",
    "plt.xlabel('City', fontsize=10)\n",
    "plt.ylabel('Type', fontsize=10)\n",
    "\n",
    "# Set the title and adjust the font size\n",
    "plt.title('Dhaka vs Chittagong Price', fontsize=14)\n",
    "\n",
    "# Adjust the color bar ticks font size\n",
    "cbar = plt.gca().collections[0].colorbar\n",
    "cbar.ax.tick_params(labelsize=8)\n",
    "\n",
    "# Display the plot\n",
    "plt.tight_layout()\n",
    "plt.show()\n"
   ]
  },
  {
   "cell_type": "markdown",
   "id": "86db6ab6",
   "metadata": {},
   "source": [
    "# Prices according to Areas"
   ]
  },
  {
   "cell_type": "code",
   "execution_count": 101,
   "id": "481ed9d9",
   "metadata": {},
   "outputs": [
    {
     "data": {
      "image/png": "[encoded data removed]",
      "text/plain": [
       "<Figure size 800x600 with 1 Axes>"
      ]
     },
     "metadata": {},
     "output_type": "display_data"
    }
   ],
   "source": [
    "# Count the occurrences of each area\n",
    "top_10_areas = df['area'].value_counts().head(10)\n",
    "\n",
    "fig = plt.figure(figsize=(8, 6))\n",
    "# Create the horizontal bar chart\n",
    "plt.barh(top_10_areas.index, top_10_areas.values)\n",
    "\n",
    "# Add labels and title\n",
    "plt.xlabel('Count')\n",
    "plt.ylabel('Area')\n",
    "plt.title('Top 10 Areas used in the dataset')\n",
    "\n",
    "# Invert the y-axis to show the highest count at the top\n",
    "plt.gca().invert_yaxis()\n",
    "\n",
    "# Add count number in front of each bar\n",
    "for i, count in enumerate(top_10_areas.values):\n",
    "    plt.text(count, i, str(count), ha='left', va='center')\n",
    "\n",
    "# Display the plot\n",
    "plt.show()"
   ]
  },
  {
   "cell_type": "code",
   "execution_count": 102,
   "id": "2e04928e",
   "metadata": {},
   "outputs": [
    {
     "data": {
      "image/png": "[encoded data removed]",
      "text/plain": [
       "<Figure size 1000x600 with 1 Axes>"
      ]
     },
     "metadata": {},
     "output_type": "display_data"
    }
   ],
   "source": [
    "# Filter the DataFrame for the top 10 areas\n",
    "top_10_areas = df['area'].value_counts().head(10).index\n",
    "\n",
    "# Create a new DataFrame with only the top 10 areas\n",
    "filtered_df = df[df['area'].isin(top_10_areas)]\n",
    "\n",
    "# Group the data by region and calculate the average price\n",
    "average_prices = filtered_df.groupby('area')['price'].mean()\n",
    "\n",
    "fig = plt.figure(figsize=(10, 6))\n",
    "\n",
    "# Create the bar chart\n",
    "plt.bar(average_prices.index, average_prices.values)\n",
    "\n",
    "# Add labels and title\n",
    "plt.xlabel('area')\n",
    "plt.ylabel('price')\n",
    "plt.title('Average Price for Top 10 areas')\n",
    "\n",
    "# Rotate the x-axis labels for better readability\n",
    "plt.xticks(rotation=45)\n",
    "\n",
    "# Display the plot\n",
    "plt.show()"
   ]
  },
  {
   "cell_type": "code",
   "execution_count": null,
   "id": "5c520780",
   "metadata": {},
   "outputs": [],
   "source": []
  }
 ],
 "metadata": {
  "kernelspec": {
   "display_name": "Python 3 (ipykernel)",
   "language": "python",
   "name": "python3"
  },
  "language_info": {
   "codemirror_mode": {
    "name": "ipython",
    "version": 3
   },
   "file_extension": ".py",
   "mimetype": "text/x-python",
   "name": "python",
   "nbconvert_exporter": "python",
   "pygments_lexer": "ipython3",
   "version": "3.11.4"
  }
 },
 "nbformat": 4,
 "nbformat_minor": 5
}
